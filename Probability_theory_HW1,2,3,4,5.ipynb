{
  "nbformat": 4,
  "nbformat_minor": 0,
  "metadata": {
    "colab": {
      "provenance": [],
      "toc_visible": true,
      "authorship_tag": "ABX9TyPBjqmfrxCkU7lD46A0ZtFd",
      "include_colab_link": true
    },
    "kernelspec": {
      "name": "python3",
      "display_name": "Python 3"
    },
    "language_info": {
      "name": "python"
    }
  },
  "cells": [
    {
      "cell_type": "markdown",
      "metadata": {
        "id": "view-in-github",
        "colab_type": "text"
      },
      "source": [
        "<a href=\"https://colab.research.google.com/github/olegtyulyaev/--2/blob/main/Probability_theory_HW1%2C2%2C3%2C4%2C5.ipynb\" target=\"_parent\"><img src=\"https://colab.research.google.com/assets/colab-badge.svg\" alt=\"Open In Colab\"/></a>"
      ]
    },
    {
      "cell_type": "markdown",
      "source": [
        "# **Теория вероятностей 1ч**\n"
      ],
      "metadata": {
        "id": "xnqxxJZkXgsA"
      }
    },
    {
      "cell_type": "markdown",
      "source": [
        "\n",
        "## Домашнее задание №1"
      ],
      "metadata": {
        "id": "Zgua4J2ve6Bn"
      }
    },
    {
      "cell_type": "markdown",
      "source": [],
      "metadata": {
        "id": "W8n8KOT0VgVX"
      }
    },
    {
      "cell_type": "markdown",
      "source": [
        "**Задача 1.**\n",
        "\n",
        " Из колоды в 52 карты извлекаются случайным образом 4 карты.\n",
        "\n",
        "1.   Найти вероятность того, что все 4 карты – крести\n",
        "2.   Найти вероятность, что среди 4-х карт окажется хотя бы один туз."
      ],
      "metadata": {
        "id": "tSxtToflXyFS"
      }
    },
    {
      "cell_type": "code",
      "source": [
        "from math import factorial\n",
        "a = factorial(13) // (factorial (4) * factorial (13-4) )\n",
        "b = factorial(39) // (factorial (0) * factorial (39-0) )\n",
        "\n",
        "c = factorial(52) // (factorial (4) * factorial (52-4) )\n",
        "(a*b)/c"
      ],
      "metadata": {
        "colab": {
          "base_uri": "https://localhost:8080/"
        },
        "id": "BAckL2l7YGOz",
        "outputId": "1c97644f-6293-4e8f-ac60-75cca5e7eab9"
      },
      "execution_count": null,
      "outputs": [
        {
          "output_type": "execute_result",
          "data": {
            "text/plain": [
              "0.0026410564225690276"
            ]
          },
          "metadata": {},
          "execution_count": 10
        }
      ]
    },
    {
      "cell_type": "code",
      "source": [
        "a = factorial(48) // (factorial (4) * factorial (48-4))\n",
        "b = factorial(52) // (factorial (4) * factorial (52-4))\n",
        "1-(a/b)"
      ],
      "metadata": {
        "colab": {
          "base_uri": "https://localhost:8080/"
        },
        "id": "SM-8xPzpY_bw",
        "outputId": "1211db44-8e50-424e-c319-5e3cf4f36e2a"
      },
      "execution_count": null,
      "outputs": [
        {
          "output_type": "execute_result",
          "data": {
            "text/plain": [
              "0.2812632745405854"
            ]
          },
          "metadata": {},
          "execution_count": 12
        }
      ]
    },
    {
      "cell_type": "markdown",
      "source": [
        "**Ответ**\n",
        "1.   P (4 трефы) = 0,26%\n",
        "2.   P (хотя бы 1 туз) = 28,13%\n"
      ],
      "metadata": {
        "id": "JEfVc5BOZfU8"
      }
    },
    {
      "cell_type": "markdown",
      "source": [
        "**Задача 2.**\n",
        "\n",
        "На входной двери подъезда установлен кодовый замок, содержащий десять кнопок с цифрами от 0 до 9. Код содержит три цифры, которые нужно нажать одновременно . Какова вероятность того, что человек, не знающий код, откроет дверь с первой попытки?"
      ],
      "metadata": {
        "id": "O-7Vf3sdbt7L"
      }
    },
    {
      "cell_type": "code",
      "source": [
        "a = factorial(10) / (factorial (3) * factorial (10-3))\n",
        "a"
      ],
      "metadata": {
        "colab": {
          "base_uri": "https://localhost:8080/"
        },
        "id": "uPiap1m7b0Gw",
        "outputId": "21a163a6-0922-403a-ae40-483c72647266"
      },
      "execution_count": null,
      "outputs": [
        {
          "output_type": "execute_result",
          "data": {
            "text/plain": [
              "120.0"
            ]
          },
          "metadata": {},
          "execution_count": 13
        }
      ]
    },
    {
      "cell_type": "markdown",
      "source": [
        "**Ответ**\n",
        "\n",
        "120 возможных исходов, из которых один благоприятный, искомая вероятность равна 1/120 или 0,83%"
      ],
      "metadata": {
        "id": "0fz9nhpscBsy"
      }
    },
    {
      "cell_type": "markdown",
      "source": [
        "**Задача 3.**\n",
        "\n",
        "В ящике имеется 15 деталей, из которых 9 окрашены. Рабочий случайным образом извлекает 3 детали. Какова вероятность того, что все 3 извлеченные детали окрашены?"
      ],
      "metadata": {
        "id": "QrU49tL9clla"
      }
    },
    {
      "cell_type": "code",
      "source": [
        "a = factorial(9) // (factorial (3) * factorial (9-3))\n",
        "b = factorial(6) // (factorial (0) * factorial (6-0) )\n",
        "\n",
        "c = factorial(15) // (factorial (3) * factorial (15-3))\n",
        "\n",
        "(a*b)/c"
      ],
      "metadata": {
        "colab": {
          "base_uri": "https://localhost:8080/"
        },
        "id": "lLWH1R9jctxo",
        "outputId": "8c88dfba-21ac-49d6-f5dc-cb7b826f72c5"
      },
      "execution_count": null,
      "outputs": [
        {
          "output_type": "execute_result",
          "data": {
            "text/plain": [
              "0.18461538461538463"
            ]
          },
          "metadata": {},
          "execution_count": 15
        }
      ]
    },
    {
      "cell_type": "markdown",
      "source": [
        "**Ответ**\n",
        "\n",
        "P (3 из 3х окрашены) = 18,46%"
      ],
      "metadata": {
        "id": "VnoaHk1GdAno"
      }
    },
    {
      "cell_type": "markdown",
      "source": [
        "**Задача 4.**\n",
        "\n",
        "В лотерее 100 билетов. Из них 2 выигрышных. Какова вероятность того, что 2 приобретенных билета окажутся выигрышными?"
      ],
      "metadata": {
        "id": "nkDvpy-IdLZd"
      }
    },
    {
      "cell_type": "code",
      "source": [
        "a = factorial(2) // (factorial (2) * factorial (2-2) )\n",
        "b = factorial(98) // (factorial (0) * factorial (98-0) )\n",
        "\n",
        "c = factorial(100) // (factorial (2) * factorial (100-2) )\n",
        "\n",
        "(a*b)/c"
      ],
      "metadata": {
        "colab": {
          "base_uri": "https://localhost:8080/"
        },
        "id": "uQIKy_gidRVp",
        "outputId": "c8b12145-7b0f-45f9-d18c-90752775e632"
      },
      "execution_count": null,
      "outputs": [
        {
          "output_type": "execute_result",
          "data": {
            "text/plain": [
              "0.00020202020202020202"
            ]
          },
          "metadata": {},
          "execution_count": 16
        }
      ]
    },
    {
      "cell_type": "markdown",
      "source": [
        "**Ответ**\n",
        "\n",
        "P (оба билеты выигрышные) = 0,02%"
      ],
      "metadata": {
        "id": "IGweguB3dar1"
      }
    },
    {
      "cell_type": "markdown",
      "source": [
        "\n",
        "## Домашнее задание №2"
      ],
      "metadata": {
        "id": "dv3NWPcY4VtR"
      }
    },
    {
      "cell_type": "markdown",
      "source": [
        "**Задача 2.1**\n",
        "\n",
        " Вероятность того, что стрелок попадет в мишень, выстрелив один раз, равна 0.8. Стрелок выстрелил 100 раз. Найдите вероятность того, что стрелок попадет в цель ровно 85 раз."
      ],
      "metadata": {
        "id": "1nvt3Cj74c81"
      }
    },
    {
      "cell_type": "code",
      "source": [
        "from math import factorial, exp\n",
        "def bernulli(n, k, p):\n",
        "    result =factorial(n)/(factorial(k)*factorial(n-k))\n",
        "    return result*(p**k)*(1-p)**(n-k)\n",
        "\n",
        "# Формула биномиального распределения: P(n)(X=k) = С(n,k) * p^k * q^(n-k) k = 85; n = 100; p = 0.8; q = 1-0.8 = 0.2"
      ],
      "metadata": {
        "id": "JsyshosQ48-k"
      },
      "execution_count": null,
      "outputs": []
    },
    {
      "cell_type": "code",
      "source": [
        "print(f' P ={bernulli(100,85,0.8): .5f}')"
      ],
      "metadata": {
        "colab": {
          "base_uri": "https://localhost:8080/"
        },
        "id": "hRv_yV075E8_",
        "outputId": "3a8f7b50-2cd9-44f9-dfe6-0fc9e3f37fe2"
      },
      "execution_count": null,
      "outputs": [
        {
          "output_type": "stream",
          "name": "stdout",
          "text": [
            " P = 0.04806\n"
          ]
        }
      ]
    },
    {
      "cell_type": "markdown",
      "source": [
        "**Задача 2.2**\n",
        "\n",
        "Вероятность того, что лампочка перегорит в течение первого дня эксплуатации, равна 0.0004. В жилом комплексе после ремонта в один день включили 5000 новых лампочек. Какова вероятность, что ни одна из них не перегорит в первый день? Какова вероятность, что перегорят ровно две?"
      ],
      "metadata": {
        "id": "48ZSGFxs6eRm"
      }
    },
    {
      "cell_type": "code",
      "source": [
        "p = 0.0004\n",
        "n = 5000\n",
        "lamda = p * n\n",
        "lamda\n",
        "\n",
        "#формула Пуассона  P(m) = (lambda^m / m!) * e^(-lambda)"
      ],
      "metadata": {
        "colab": {
          "base_uri": "https://localhost:8080/"
        },
        "id": "NWwiIRe16ot9",
        "outputId": "5333101c-4dad-429b-92f1-fd08a904e3bf"
      },
      "execution_count": null,
      "outputs": [
        {
          "output_type": "execute_result",
          "data": {
            "text/plain": [
              "2.0"
            ]
          },
          "metadata": {},
          "execution_count": 33
        }
      ]
    },
    {
      "cell_type": "code",
      "source": [
        "import math\n",
        "P_0 = (lamda**0/(factorial(0))) * (math.e **-lamda)\n",
        "print(f' P ={(P_0): .5f}')\n"
      ],
      "metadata": {
        "colab": {
          "base_uri": "https://localhost:8080/"
        },
        "id": "WMgwjkpM7UKc",
        "outputId": "7772df5e-3fd0-45ee-a086-c2488b8a0aa0"
      },
      "execution_count": null,
      "outputs": [
        {
          "output_type": "stream",
          "name": "stdout",
          "text": [
            " P = 0.13534\n"
          ]
        }
      ]
    },
    {
      "cell_type": "code",
      "source": [
        "P_2 = (lamda**2/(factorial(2))) * (math.e **-lamda)\n",
        "print(f' P ={(P_2): .5f}')\n"
      ],
      "metadata": {
        "colab": {
          "base_uri": "https://localhost:8080/"
        },
        "id": "nrDNA8yJ-ms7",
        "outputId": "438b56e6-5f44-47f9-c56c-d09b52a2be79"
      },
      "execution_count": null,
      "outputs": [
        {
          "output_type": "stream",
          "name": "stdout",
          "text": [
            " P = 0.27067\n"
          ]
        }
      ]
    },
    {
      "cell_type": "markdown",
      "source": [
        "**Ответ**\n",
        "\n",
        "P (0 лампочек перегорит) = 13,5%\n",
        "\n",
        "P (2 лампочки перегорят) = 27,1%"
      ],
      "metadata": {
        "id": "I_aeDZgj-vgR"
      }
    },
    {
      "cell_type": "markdown",
      "source": [
        "**Задача 2.3**\n",
        "\n",
        "Монету подбросили 144 раза. Какова вероятность, что орел выпадет ровно 70 раз?"
      ],
      "metadata": {
        "id": "XcjiMPdl_TED"
      }
    },
    {
      "cell_type": "code",
      "source": [
        "print(f'P = {bernulli(144,70,0.5): .5f}')"
      ],
      "metadata": {
        "colab": {
          "base_uri": "https://localhost:8080/"
        },
        "id": "TmwXgyix_fB5",
        "outputId": "df6efd5e-6d70-4a01-e4a3-c3cd23767dfa"
      },
      "execution_count": null,
      "outputs": [
        {
          "output_type": "stream",
          "name": "stdout",
          "text": [
            "P =  0.06281\n"
          ]
        }
      ]
    },
    {
      "cell_type": "markdown",
      "source": [
        "**Ответ**\n",
        "\n",
        "Вероятность, что орел выпадет ровно 70 раз = 6,28%"
      ],
      "metadata": {
        "id": "bFnX5cauALKL"
      }
    },
    {
      "cell_type": "markdown",
      "source": [
        "**Задача 2.4**\n",
        "\n",
        "В первом ящике находится 10 мячей, из которых 7 - белые. Во втором ящике - 11 мячей, из которых 9 белых. Из каждого ящика вытаскивают случайным образом по два мяча.\n",
        "\n",
        "* 2.4.1 Какова вероятность того, что все мячи белые?\n",
        "* 2.4.2 Какова вероятность того, что ровно два мяча белые?\n",
        "* 2.4.3 Какова вероятность того, что хотя бы один мяч белый?"
      ],
      "metadata": {
        "id": "Nc3HnxAUAgt4"
      }
    },
    {
      "cell_type": "code",
      "source": [
        "p4=7/10*6/9*9/11*8/10\n",
        "p2=7/10*6/9*2/11*1/10+3/10*2/9*9/11*8/10+(7/10*3/9+3/10*7/9)*(9/11*2/10+2/11*9/10)\n",
        "p1=1-3/10*2/9*2/11*1/10\n",
        "\n",
        "def comb(k, n):\n",
        " return factorial(n) / (factorial(k) * factorial(n - k))\n",
        "\n",
        "#первая и вторая корзина по 2 белых мяча\n",
        "p4 = comb(2, 7) / comb(2, 10) * comb(2, 9) / comb(2, 11)\n",
        "\n",
        "#первая или вторая корзина 2 белых мяча\n",
        "p2 = (comb(2, 7) / comb(2, 10) * comb(2, 2) / comb(2, 11)) + (comb(2, 3) / comb(2, 10) * comb(2, 9) / comb(2, 11))\n",
        "\n",
        "#первая и вторая корзина по одному белому мячу\n",
        "p2 += comb(1, 7) * comb(1, 3) /  comb(2, 10) * comb(1, 9) * comb(1, 2) / comb(2, 11)\n",
        "\n",
        "#обратная вероятность вытащить ноль белых мячей\n",
        "p1 = 1 - comb(0, 7) / comb(7, 10) * comb(0, 9) / comb(9, 11)\n",
        "\n",
        "\n",
        "print(f'Ответ 2.4.1 - все мячи белые = {p4:.5f}')\n",
        "print(f'Ответ 2.4.2 - 2 мяча белые = {p2:.5f}')\n",
        "print(f'Ответ 2.4.3 - хотя бы 1 мяч белый = {p1:.5f}')"
      ],
      "metadata": {
        "colab": {
          "base_uri": "https://localhost:8080/"
        },
        "id": "BwTNOCJhBOOk",
        "outputId": "9e36db33-95b2-4077-ce72-07484a5dd6ce"
      },
      "execution_count": null,
      "outputs": [
        {
          "output_type": "stream",
          "name": "stdout",
          "text": [
            "Ответ 2.4.1 - все мячи белые = 0.30545\n",
            "Ответ 2.4.2 - 2 мяча белые = 0.20485\n",
            "Ответ 2.4.3 - хотя бы 1 мяч белый = 0.99985\n"
          ]
        }
      ]
    },
    {
      "cell_type": "markdown",
      "source": [
        "## Домашнее задание №3"
      ],
      "metadata": {
        "id": "mgtHmrJvVmZ7"
      }
    },
    {
      "cell_type": "markdown",
      "source": [
        "**Задача 3.1.**\n",
        "\n",
        "Даны значения зарплат из выборки выпускников: 100, 80, 75, 77, 89, 33, 45, 25, 65, 17, 30, 24, 57, 55, 70, 75, 65, 84, 90, 150. Посчитать (желательно без использования статистических методов наподобие std, var, mean) среднее арифметическое, среднее квадратичное отклонение, смещенную и несмещенную оценки дисперсий для данной выборки."
      ],
      "metadata": {
        "id": "SbLr3qU7V-Fw"
      }
    },
    {
      "cell_type": "code",
      "source": [
        "import numpy as np\n",
        "from math import factorial\n",
        "arr=np.array([100, 80, 75, 77, 89, 33, 45, 25, 65, 17, 30, 24, 57, 55, 70, 75, 65, 84, 90, 150])\n",
        "arr\n",
        "\n",
        "def mean_value(array):\n",
        "    return sum(array)/len(array)\n",
        "\n",
        "print(f'Среднее арифметическое М(Х) = {mean_value(arr): .2f}')"
      ],
      "metadata": {
        "colab": {
          "base_uri": "https://localhost:8080/"
        },
        "id": "jL94i14wWLta",
        "outputId": "3362971a-a6cd-4b3a-80a3-9197b01a6f9a"
      },
      "execution_count": null,
      "outputs": [
        {
          "output_type": "stream",
          "name": "stdout",
          "text": [
            "Среднее арифметическое М(Х) =  65.30\n"
          ]
        }
      ]
    },
    {
      "cell_type": "code",
      "source": [
        "def mean_square_deviation(array):\n",
        "    square_dev=(array-mean_value(array))**2\n",
        "    return (sum(square_dev)/len(square_dev))**(1/2)\n",
        "\n",
        "print(f'Среднее квадратичное отклонение D(X) = {mean_square_deviation(arr): .2f}')"
      ],
      "metadata": {
        "colab": {
          "base_uri": "https://localhost:8080/"
        },
        "id": "KG3GUU40YdtO",
        "outputId": "169c101f-18b4-4624-e826-2ad43aaec7f6"
      },
      "execution_count": null,
      "outputs": [
        {
          "output_type": "stream",
          "name": "stdout",
          "text": [
            "Среднее квадратичное отклонение D(X) =  30.82\n"
          ]
        }
      ]
    },
    {
      "cell_type": "code",
      "source": [
        "def dispers(array):\n",
        "    square_dev=(array-mean_value(array))**2\n",
        "    return sum(square_dev)/(len(square_dev)-1)\n",
        "\n",
        "def dispers_slap(array):\n",
        "    square_dev=(array-mean_value(array))**2\n",
        "    return sum(square_dev)/(len(square_dev))\n",
        "\n",
        "print(f'Смещенная D = {dispers(arr): .2f}')\n",
        "print(f'Немещенная D = {dispers_slap(arr): .2f}')"
      ],
      "metadata": {
        "colab": {
          "base_uri": "https://localhost:8080/"
        },
        "id": "t-fwXdTOgh9v",
        "outputId": "109ef0d1-64e4-4e68-f606-adc4059b0f57"
      },
      "execution_count": null,
      "outputs": [
        {
          "output_type": "stream",
          "name": "stdout",
          "text": [
            "Смещенная D =  1000.12\n",
            "Немещенная D =  950.11\n"
          ]
        }
      ]
    },
    {
      "cell_type": "markdown",
      "source": [],
      "metadata": {
        "id": "DWel4JK5WTuP"
      }
    },
    {
      "cell_type": "markdown",
      "source": [
        "**Задача 3.2.**\n",
        "\n",
        "В первом ящике находится 8 мячей, из которых 5 - белые. Во втором ящике - 12 мячей, из которых 5 белых. Из первого ящика вытаскивают случайным образом два мяча, из второго - 4 мяча. Какова вероятность того, что 3 мяча белые?"
      ],
      "metadata": {
        "id": "XjAcmzH6WZ9I"
      }
    },
    {
      "cell_type": "code",
      "source": [
        "import numpy as np\n",
        "from math import factorial\n",
        "\n",
        "def combinations(n,k):\n",
        "    return factorial(n)/(factorial(k)*factorial(n-k))"
      ],
      "metadata": {
        "id": "01djuDFDXhU0"
      },
      "execution_count": null,
      "outputs": []
    },
    {
      "cell_type": "code",
      "source": [
        "P1=(combinations(3,2)/combinations(8,2)) * (combinations(5,3) * combinations(7,1)/combinations(12,4))\n",
        "print(f'Вероятность события \"из первой корзины не вытащили ни одного белого мяча'\n",
        "      f', из второй вытащили 3 белых мяча\"\\nP(A1) = {P1: .4f}'\n",
        "     )"
      ],
      "metadata": {
        "colab": {
          "base_uri": "https://localhost:8080/"
        },
        "id": "j0sR_1BFYKEo",
        "outputId": "b70beae9-a770-43ea-e312-9d9c0e65cd6b"
      },
      "execution_count": null,
      "outputs": [
        {
          "output_type": "stream",
          "name": "stdout",
          "text": [
            "Вероятность события \"из первой корзины не вытащили ни одного белого мяча, из второй вытащили 3 белых мяча\"\n",
            "P(A1) =  0.0152\n"
          ]
        }
      ]
    },
    {
      "cell_type": "code",
      "source": [
        "P2=(combinations(5,1)*combinations(3,1)*combinations(5,2)*combinations(7,2))/(combinations(8,2)*combinations(12,4))\n",
        "print(f'Вероятность события \"из первой корзины вытащили 1 белый мяч'\n",
        "      f', из второй вытащили 2 белых мяча\"\\nP(A2) = {P2: .4f}'\n",
        "     )"
      ],
      "metadata": {
        "colab": {
          "base_uri": "https://localhost:8080/"
        },
        "id": "K4ppR25sZB5y",
        "outputId": "96bfe5e9-c414-444e-e7ab-f266d7b2e9ca"
      },
      "execution_count": null,
      "outputs": [
        {
          "output_type": "stream",
          "name": "stdout",
          "text": [
            "Вероятность события \"из первой корзины вытащили 1 белый мяч, из второй вытащили 2 белых мяча\"\n",
            "P(A2) =  0.2273\n"
          ]
        }
      ]
    },
    {
      "cell_type": "code",
      "source": [
        "P3=(combinations(5,2)*combinations(5,1)*combinations(7,3))/(combinations(8,2)*combinations(12,4))\n",
        "print(f'Вероятность события \"из первой корзины вытащили 2 белых мяча'\n",
        "      f', из второй вытащили 1 белый мяч\"\\nP(A3) = {P3: .4f}'\n",
        "     )"
      ],
      "metadata": {
        "colab": {
          "base_uri": "https://localhost:8080/"
        },
        "id": "dgiWjTLRY7Ae",
        "outputId": "1784b5fd-bc15-4425-ff26-3dea4ac87ab1"
      },
      "execution_count": null,
      "outputs": [
        {
          "output_type": "stream",
          "name": "stdout",
          "text": [
            "Вероятность события \"из первой корзины вытащили 2 белых мяча, из второй вытащили 1 белый мяч\"\n",
            "P(A3) =  0.1263\n"
          ]
        }
      ]
    },
    {
      "cell_type": "code",
      "source": [
        "print(f'Вероятность того, что из вытащенных мячей 3 белые Р(А) = {P1+P2+P3: .4f}')"
      ],
      "metadata": {
        "colab": {
          "base_uri": "https://localhost:8080/"
        },
        "id": "DuG-TYn_ZPlW",
        "outputId": "a9f707cd-3799-4095-bff9-25404aea00df"
      },
      "execution_count": null,
      "outputs": [
        {
          "output_type": "stream",
          "name": "stdout",
          "text": [
            "Вероятность того, что из вытащенных мячей 3 белые Р(А) =  0.3687\n"
          ]
        }
      ]
    },
    {
      "cell_type": "markdown",
      "source": [
        "**Задача 3.3**\n",
        "\n",
        "На соревновании по биатлону один из трех спортсменов стреляет и попадает в мишень. Вероятность попадания для первого спортсмена равна 0.9, для второго — 0.8, для третьего — 0.6. Найти вероятность того, что выстрел произведен: a). первым спортсменом б). вторым спортсменом в). третьим спортсменом."
      ],
      "metadata": {
        "id": "cV2tx2PKZXl1"
      }
    },
    {
      "cell_type": "code",
      "source": [
        "PB=1/3\n",
        "PA=PB*0.9+PB*0.8+PB*0.6\n",
        "print(f'Полная вероятность наступления события А Р(А) = {PA: .4f}')"
      ],
      "metadata": {
        "colab": {
          "base_uri": "https://localhost:8080/"
        },
        "id": "ZaAFUWr0Zb18",
        "outputId": "43995ca2-080b-41fb-be58-407e602784e6"
      },
      "execution_count": null,
      "outputs": [
        {
          "output_type": "stream",
          "name": "stdout",
          "text": [
            "Полная вероятность наступления события А Р(А) =  0.7667\n"
          ]
        }
      ]
    },
    {
      "cell_type": "code",
      "source": [
        "PAB1=PB*0.9/PA\n",
        "PAB2=PB*0.8/PA\n",
        "PAB3=PB*0.6/PA\n",
        "print(f'Вероятность того, что выстрел произвёл первый спортсмен: {PAB1: .4f};\\n'\n",
        "      f'Вероятность того, что выстрел произвёл второй спортсмен: {PAB2: .4f};\\n'\n",
        "      f'Вероятность того, что выстрел произвёл третий спортсмен: {PAB3: .4f}.'\n",
        "     )"
      ],
      "metadata": {
        "colab": {
          "base_uri": "https://localhost:8080/"
        },
        "id": "XtPCKvFfZj5X",
        "outputId": "d1f0c4de-e185-44dd-fba1-c7a65bd1fd48"
      },
      "execution_count": null,
      "outputs": [
        {
          "output_type": "stream",
          "name": "stdout",
          "text": [
            "Вероятность того, что выстрел произвёл первый спортсмен:  0.3913;\n",
            "Вероятность того, что выстрел произвёл второй спортсмен:  0.3478;\n",
            "Вероятность того, что выстрел произвёл третий спортсмен:  0.2609.\n"
          ]
        }
      ]
    },
    {
      "cell_type": "markdown",
      "source": [
        "**Задача 4.4**\n",
        "\n",
        " В университет на факультеты A и B поступило равное количество студентов, а на факультет C студентов поступило столько же, сколько на A и B вместе. Вероятность того, что студент факультета A сдаст первую сессию, равна 0.8. Для студента факультета B эта вероятность равна 0.7, а для студента факультета C - 0.9. Студент сдал первую сессию. Какова вероятность, что он учится: a). на факультете A б). на факультете B в). на факультете C?"
      ],
      "metadata": {
        "id": "tx_rqI2IZqrd"
      }
    },
    {
      "cell_type": "code",
      "source": [
        "PD=0.25*0.8+0.25*0.7+0.5*0.9\n",
        "print(f'Полная вероятность наступления события D, P(D) = {PD}.')"
      ],
      "metadata": {
        "colab": {
          "base_uri": "https://localhost:8080/"
        },
        "id": "Exfopqp1bvBz",
        "outputId": "c9078f26-64f6-4ddd-92b1-d36fc7c29559"
      },
      "execution_count": null,
      "outputs": [
        {
          "output_type": "stream",
          "name": "stdout",
          "text": [
            "Полная вероятность наступления события D, P(D) = 0.825.\n"
          ]
        }
      ]
    },
    {
      "cell_type": "code",
      "source": [
        "PDSA=0.25*0.8/PD\n",
        "PDSB=0.25*0.7/PD\n",
        "PDSC=0.5*0.9/PD\n",
        "print(f'Вероятность того, что студент учится на факультете А: {PDSA: .4f};\\n'\n",
        "      f'Вероятность того, что студент учится на факультете B: {PDSB: .4f};\\n'\n",
        "      f'Вероятность того, что студент учится на факультете C: {PDSC: .4f}.'\n",
        "      )"
      ],
      "metadata": {
        "colab": {
          "base_uri": "https://localhost:8080/"
        },
        "id": "mD9nS5ZOb0aG",
        "outputId": "54487d41-db98-4c82-9685-dbabf21dda71"
      },
      "execution_count": null,
      "outputs": [
        {
          "output_type": "stream",
          "name": "stdout",
          "text": [
            "Вероятность того, что студент учится на факультете А:  0.2424;\n",
            "Вероятность того, что студент учится на факультете B:  0.2121;\n",
            "Вероятность того, что студент учится на факультете C:  0.5455.\n"
          ]
        }
      ]
    },
    {
      "cell_type": "markdown",
      "source": [
        "**Задача 3.5.**\n",
        "\n",
        " Устройство состоит из трех деталей. Для первой детали вероятность выйти из строя в первый месяц равна 0.1, для второй - 0.2, для третьей - 0.25. Какова вероятность того, что в первый месяц выйдут из строя: а). все детали б). только две детали в). хотя бы одна деталь г). от одной до двух деталей?"
      ],
      "metadata": {
        "id": "PwD8qrJ4b7xL"
      }
    },
    {
      "cell_type": "code",
      "source": [
        "P3=0.1*0.2*0.25\n",
        "print(f'Вероятность того, что из строя выйдут все детали Р(3) = {P3: .4f}')"
      ],
      "metadata": {
        "colab": {
          "base_uri": "https://localhost:8080/"
        },
        "id": "G5Gu-s4AcWBZ",
        "outputId": "60eebe90-1998-44d7-c0d9-469ceb46d153"
      },
      "execution_count": null,
      "outputs": [
        {
          "output_type": "stream",
          "name": "stdout",
          "text": [
            "Вероятность того, что из строя выйдут все детали Р(3) =  0.0050\n"
          ]
        }
      ]
    },
    {
      "cell_type": "code",
      "source": [
        "P2=0.1*0.2*0.75+0.1*0.25*0.8+0.2*0.25*0.9\n",
        "print(f'Вероятность того, что из строя выйдут только 2 детали Р(2) = {P2: .4f}')"
      ],
      "metadata": {
        "colab": {
          "base_uri": "https://localhost:8080/"
        },
        "id": "6g80e-Pxce6K",
        "outputId": "9b008c5e-dd4a-47e0-f53a-b06013b1c823"
      },
      "execution_count": null,
      "outputs": [
        {
          "output_type": "stream",
          "name": "stdout",
          "text": [
            "Вероятность того, что из строя выйдут только 2 детали Р(2) =  0.0800\n"
          ]
        }
      ]
    },
    {
      "cell_type": "code",
      "source": [
        "P0=0.9*0.8*0.75\n",
        "print(f'Вероятность того, что из строя не выйдет ни одной детали Р(0) = {P0: .4f}')"
      ],
      "metadata": {
        "colab": {
          "base_uri": "https://localhost:8080/"
        },
        "id": "lm2_eUBRciHn",
        "outputId": "05287cc2-f1f4-4d8c-b394-6b9c8994b8ee"
      },
      "execution_count": null,
      "outputs": [
        {
          "output_type": "stream",
          "name": "stdout",
          "text": [
            "Вероятность того, что из строя не выйдет ни одной детали Р(0) =  0.5400\n"
          ]
        }
      ]
    },
    {
      "cell_type": "code",
      "source": [
        "P_0=1-P0\n",
        "print(f'Вероятность того, что выйдет из строя хотя бы одна деталь Р(>=1) = {P_0: .4f}')"
      ],
      "metadata": {
        "colab": {
          "base_uri": "https://localhost:8080/"
        },
        "id": "dvwPI5GFcmN4",
        "outputId": "0471c1de-b8c2-4f00-a8ea-260317b9868e"
      },
      "execution_count": null,
      "outputs": [
        {
          "output_type": "stream",
          "name": "stdout",
          "text": [
            "Вероятность того, что выйдет из строя хотя бы одна деталь Р(>=1) =  0.4600\n"
          ]
        }
      ]
    },
    {
      "cell_type": "code",
      "source": [],
      "metadata": {
        "id": "lvZ3yqhxFRn9"
      },
      "execution_count": null,
      "outputs": []
    },
    {
      "cell_type": "markdown",
      "source": [
        "\n",
        "## Домашнее задание №4"
      ],
      "metadata": {
        "id": "Sof-1T6wfy7S"
      }
    },
    {
      "cell_type": "markdown",
      "source": [
        "**Задача 4.1.**\n",
        "\n",
        " Случайная непрерывная величина A имеет равномерное распределение на\n",
        "промежутке (200, 800].\n",
        "\n",
        "Найдите ее среднее значение и дисперсию."
      ],
      "metadata": {
        "id": "zMcyixbWgg2x"
      }
    },
    {
      "cell_type": "code",
      "source": [
        "def mean_and_variance(a,b):\n",
        "    return f'({a};{b}]\\nСреднее значение: М(А) = {(a+b)/2: .2f}\\nДисперсия: D(A) = {((b-a)**2)/12: .2f}'\n",
        "print(mean_and_variance(200,800))"
      ],
      "metadata": {
        "colab": {
          "base_uri": "https://localhost:8080/"
        },
        "id": "3PYjczd6goxy",
        "outputId": "70d2f371-8824-4165-92fb-7181f91dde59"
      },
      "execution_count": null,
      "outputs": [
        {
          "output_type": "stream",
          "name": "stdout",
          "text": [
            "(200;800]\n",
            "Среднее значение: М(А) =  500.00\n",
            "Дисперсия: D(A) =  30000.00\n"
          ]
        }
      ]
    },
    {
      "cell_type": "markdown",
      "source": [
        "**Задача 4.2.**\n",
        "\n",
        "О случайной непрерывной равномерно распределенной величине B известно, что ее\n",
        "дисперсия равна 0.2.\n",
        "Можно ли найти правую границу величины B и ее среднее значение зная, что левая\n",
        "граница равна 0.5?\n",
        "Если да, найдите ее."
      ],
      "metadata": {
        "id": "xqrkhhmOhBo2"
      }
    },
    {
      "cell_type": "code",
      "source": [
        "b=0.5+2.4**(1/2)\n",
        "print(f'Левая граница распределения величины В - b = {b: .3f}\\n'\n",
        "      f'Среднее значение В на промежутке (0.5; {b: .3f}) M(B) = {(b+0.5)/2: .3f}'\n",
        "     )"
      ],
      "metadata": {
        "colab": {
          "base_uri": "https://localhost:8080/"
        },
        "id": "j7RccpbSipTm",
        "outputId": "8dedf9ee-2c51-42ef-881a-db925d689054"
      },
      "execution_count": null,
      "outputs": [
        {
          "output_type": "stream",
          "name": "stdout",
          "text": [
            "Левая граница распределения величины В - b =  2.049\n",
            "Среднее значение В на промежутке (0.5;  2.049) M(B) =  1.275\n"
          ]
        }
      ]
    },
    {
      "cell_type": "markdown",
      "source": [
        "**Задача 4.3.**\n",
        "\n",
        " Непрерывная случайная величина X распределена нормально и задана плотностью\n",
        "распределения\n",
        "f(x) = (1 / (4 * sqrt(2pi))) * exp((-(x+2)**2) / 32)\n",
        "\n",
        "Найдите:\n",
        "\n",
        "а). M(X)\n",
        "\n",
        "б). D(X)\n",
        "\n",
        "в). std(X) (среднее квадратичное отклонение)"
      ],
      "metadata": {
        "id": "czdL4tOni-HY"
      }
    },
    {
      "cell_type": "code",
      "source": [
        "print('M(x) = a = -2 \\n'\n",
        "      'std(x) = 4 \\n'\n",
        "      'D(x) = std(x)^2 = 16 \\n'\n",
        "      )"
      ],
      "metadata": {
        "colab": {
          "base_uri": "https://localhost:8080/"
        },
        "id": "JragmD0gjDO_",
        "outputId": "eb51fdb6-b3de-4610-d21f-5703b2404eae"
      },
      "execution_count": null,
      "outputs": [
        {
          "output_type": "stream",
          "name": "stdout",
          "text": [
            "M(x) = a = -2 \n",
            "std(x) = 4 \n",
            "D(x) = std(x)^2 = 16 \n",
            "\n"
          ]
        }
      ]
    },
    {
      "cell_type": "markdown",
      "source": [
        "**Задача 4.4.**\n",
        "\n",
        " Рост взрослого населения города X имеет нормальное распределение, причем, средний рост равен 174 см, а среднее квадратическое отклонение равно 8 см. посчитайте, какова вероятность того, что случайным образом выбранный взрослый человек имеет рост:\n",
        "1. больше 182 см?\n",
        "2. больше 190 см?\n",
        "3. от 166 см до 190 см?\n",
        "4. от 166 см до 182 см?\n",
        "5. от 158 см до 190 см?\n",
        "6. не выше 150 см или не ниже 190 см?\n",
        "7. не выше 150 см или не ниже 198 см?\n",
        "8. ниже 166 см?\n",
        "Задачу можно решить двумя способами: без использования сторонних библиотек (numpy, scipy, pandas и пр.), а затем проверить себя с помощью встроенных функций"
      ],
      "metadata": {
        "id": "S966dqg8j1i3"
      }
    },
    {
      "cell_type": "code",
      "source": [
        "from scipy.stats import norm\n",
        "from os import system\n",
        "\n",
        "mu = 174\n",
        "sigma = 8\n",
        "\n",
        "a = 182\n",
        "pa = 1-norm.cdf(a, mu, sigma)\n",
        "print(f'>>> Вероятность роста больше {a} см = {pa: .4f}')\n",
        "\n",
        "b = 190\n",
        "pb = 1-norm.cdf(b, mu, sigma)\n",
        "print(f'>>> Вероятность роста больше {b} см = {pb: .4f}')\n",
        "\n",
        "v1, v2 = 166, 190\n",
        "pv = norm.cdf(v2, mu, sigma)-norm.cdf(v1, mu, sigma)\n",
        "print(f'>>> Вероятность роста от {v1} см до {v2} см = {pv: .4f}')\n",
        "\n",
        "g1, g2 = 166, 182\n",
        "pg = norm.cdf(g2, mu, sigma)-norm.cdf(g1, mu, sigma)\n",
        "print(f'>>> Вероятность роста от {g1} см до {g2} см = {pg: .4f}')\n",
        "\n",
        "d1, d2 = 158, 190\n",
        "pd = norm.cdf(d2, mu, sigma)-norm.cdf(d1, mu, sigma)\n",
        "print(f'>>> Вероятность роста от {d1} см до {d2} см = {pd: .4f}')\n",
        "\n",
        "e1, e2 = 150, 190\n",
        "pe = norm.cdf(e1, mu, sigma)+1-norm.cdf(e2, mu, sigma)\n",
        "print(f'>>> Вероятность роста не выше {e1} см или не ниже {e2} см = {pe: .4f}')\n",
        "\n",
        "yo1, yo2 = 150, 198\n",
        "pyo = norm.cdf(yo1, mu, sigma)+1-norm.cdf(yo2, mu, sigma)\n",
        "print(\n",
        "    f'>>> Вероятность роста не выше {yo1} см или не ниже {yo2} см = {pyo: .4f}')\n",
        "\n",
        "zh = 166\n",
        "pzh = norm.cdf(zh, mu, sigma)\n",
        "print(f'>>> Вероятность роста ниже {zh} см = {pzh: .4f}')"
      ],
      "metadata": {
        "colab": {
          "base_uri": "https://localhost:8080/"
        },
        "id": "lMf9nnM8kGMc",
        "outputId": "f4a56565-94f6-4ad8-f414-d65cfcb452ca"
      },
      "execution_count": null,
      "outputs": [
        {
          "output_type": "stream",
          "name": "stdout",
          "text": [
            ">>> Вероятность роста больше 182 см =  0.1587\n",
            ">>> Вероятность роста больше 190 см =  0.0228\n",
            ">>> Вероятность роста от 166 см до 190 см =  0.8186\n",
            ">>> Вероятность роста от 166 см до 182 см =  0.6827\n",
            ">>> Вероятность роста от 158 см до 190 см =  0.9545\n",
            ">>> Вероятность роста не выше 150 см или не ниже 190 см =  0.0241\n",
            ">>> Вероятность роста не выше 150 см или не ниже 198 см =  0.0027\n",
            ">>> Вероятность роста ниже 166 см =  0.1587\n"
          ]
        }
      ]
    },
    {
      "cell_type": "markdown",
      "source": [
        "**Задача 4.5**\n",
        "\n",
        " На сколько сигм (средних квадратичных отклонений) отклоняется рост человека,\n",
        "равный 190 см, от\n",
        "математического ожидания роста в популяции, в которой M(X) = 178 см и D(X) = 25 кв.см?"
      ],
      "metadata": {
        "id": "HYr3x9NRkgwe"
      }
    },
    {
      "cell_type": "code",
      "source": [
        "Z=(190-178)/25**(1/2)\n",
        "print(f'Рост человека, равный 190 см, отклоняется от математического ожидания \\n'\n",
        "      f' M(X) = 178 см и D(X) = 25 кв.см на Z = {Z} сигмы.')"
      ],
      "metadata": {
        "colab": {
          "base_uri": "https://localhost:8080/"
        },
        "id": "s1xpNj2wkon2",
        "outputId": "d3e9a7ce-3daa-4dbf-b221-479b00f2497a"
      },
      "execution_count": null,
      "outputs": [
        {
          "output_type": "stream",
          "name": "stdout",
          "text": [
            "Рост человека, равный 190 см, отклоняется от математического ожидания \n",
            " M(X) = 178 см и D(X) = 25 кв.см на Z = 2.4 сигмы.\n"
          ]
        }
      ]
    },
    {
      "cell_type": "markdown",
      "source": [
        "\n",
        "## Домашнее задание №5"
      ],
      "metadata": {
        "id": "0BBujDPIFUPy"
      }
    },
    {
      "cell_type": "markdown",
      "source": [
        "**Задача 5.1.**\n",
        "\n",
        " Когда используется критерий Стьюдента, а когда Z –критерий?"
      ],
      "metadata": {
        "id": "nQDh3BOwFg9V"
      }
    },
    {
      "cell_type": "markdown",
      "source": [
        "**Ответ**: Критерий Стьюдента используется для определения того, существует ли значительная разница между средними значениями двух групп, обычно когда размер выборки невелик или стандартное отклонение генеральной совокупности неизвестно. Z-критерий используется, когда размер выборки велик (обычно n > 30) и известно стандартное отклонение генеральной совокупности."
      ],
      "metadata": {
        "id": "NRpMGtFKG-ol"
      }
    },
    {
      "cell_type": "markdown",
      "source": [
        "**Задача 5.2.**\n",
        "\n",
        "Утверждается, что шарики для подшипников, изготовленные\n",
        "автоматическим станком, имеют средний диаметр 17 мм.\n",
        "Используя односторонний критерий с α=0,05, проверить эту гипотезу, если в выборке из n=100 шариков средний диаметр оказался равным 17.5 мм, а дисперсия генеральной совокупности известна и равна 4 кв. мм."
      ],
      "metadata": {
        "id": "_EbiAw87HI30"
      }
    },
    {
      "cell_type": "markdown",
      "source": [
        "**Решение:** Поскольку нам известны и среднее и дисперсия генеральной совокупности, то для проверки гипотезы будем использовать Z-критерий."
      ],
      "metadata": {
        "id": "2RQpU5eGIIFb"
      }
    },
    {
      "cell_type": "code",
      "source": [
        "import scipy.stats as stats\n",
        "\n",
        "z=(17.5-17)/0.2\n",
        "print(f'Наблюдаемое значение: {z: .4f}')\n",
        "\n",
        "zt=stats.norm.ppf(0.95)\n",
        "print(f'Табличное значение z-критерия: {zt: .4f}')\n",
        "\n",
        "z<zt"
      ],
      "metadata": {
        "colab": {
          "base_uri": "https://localhost:8080/"
        },
        "id": "Stg7gqqbIPbE",
        "outputId": "95156525-5367-432f-8e08-17da2741eb8c"
      },
      "execution_count": 4,
      "outputs": [
        {
          "output_type": "stream",
          "name": "stdout",
          "text": [
            "Наблюдаемое значение:  2.5000\n",
            "Табличное значение z-критерия:  1.6449\n"
          ]
        },
        {
          "output_type": "execute_result",
          "data": {
            "text/plain": [
              "False"
            ]
          },
          "metadata": {},
          "execution_count": 4
        }
      ]
    },
    {
      "cell_type": "markdown",
      "source": [
        "**Ответ:** нулевую гипотезу Н0 с мат  ожиданием 17 на уровне значимости 5% ***надо отвергнуть***"
      ],
      "metadata": {
        "id": "leQ2hptpIwVL"
      }
    },
    {
      "cell_type": "markdown",
      "source": [
        "**Задача 5.3.**\n",
        "\n",
        "Продавец утверждает, что средний вес пачки печенья\n",
        "составляет 200 г.\n",
        "Из партии извлечена выборка из 10 пачек. Вес каждой пачки составляет:\n",
        "202, 203, 199, 197, 195, 201, 200, 204, 194, 190.\n",
        "Известно, что их веса распределены нормально.\n",
        "Верно ли утверждение продавца, если учитывать, что уровень значимости 1%? (Провести двусторонний тест.)"
      ],
      "metadata": {
        "id": "JI2P5MKlJIvS"
      }
    },
    {
      "cell_type": "code",
      "source": [
        "import numpy as np\n",
        "cookies = np.array([202, 203, 199, 197, 195, 201, 200, 204, 194, 190])\n",
        "\n",
        "#Поскольку не известны ни среднее, ни дисперсия генеральной совокупности,\n",
        "#то для проверки гипотезы будем использовать t-критерий.\n",
        "\n",
        "tn=(np.mean(cookies)-200)/(np.std(cookies,ddof=1)/len(cookies)**0.5)\n",
        "print(f'Наблюдаемое значение t-критерия: {tn: .4f}')\n",
        "\n",
        "\n",
        "tt=stats.t.ppf(0.995,len(cookies)-1)\n",
        "print(f'Табличное значение t-критерия: {tt: .4f}')\n",
        "\n",
        "#Сравниваем t-наблюдаемое и t-табличное для определения верности Н0 гипотезы\n",
        "np.abs(tn)<tt"
      ],
      "metadata": {
        "colab": {
          "base_uri": "https://localhost:8080/"
        },
        "id": "nYlaNqStJ8kl",
        "outputId": "4f030b21-0cec-43d0-da52-bd1d07001592"
      },
      "execution_count": 8,
      "outputs": [
        {
          "output_type": "stream",
          "name": "stdout",
          "text": [
            "Наблюдаемое значение t-критерия: -1.0651\n",
            "Табличное значение t-критерия:  3.2498\n"
          ]
        },
        {
          "output_type": "execute_result",
          "data": {
            "text/plain": [
              "True"
            ]
          },
          "metadata": {},
          "execution_count": 8
        }
      ]
    },
    {
      "cell_type": "markdown",
      "source": [
        "**Ответ:** нулевую гипотезу Н0 с мат ожиданием 200 на уровне значимости 1% ***надо принять***"
      ],
      "metadata": {
        "id": "Mu_IlG9zK8IU"
      }
    },
    {
      "cell_type": "markdown",
      "source": [
        "**Задача 5.4.**\n",
        "\n",
        "Есть ли статистически значимые различия в среднем росте матерей и\n",
        "дочерей?\n",
        "Рост матерей 172, 177, 158, 170, 178,175, 164, 160, 169, 165\n",
        "Рост взрослых дочерей: 173, 175, 162, 174, 175, 168, 155, 170, 160, 163"
      ],
      "metadata": {
        "id": "oAigJ2f3MbcV"
      }
    },
    {
      "cell_type": "code",
      "source": [
        "mothers_height = np.array([172, 177, 158, 170, 178,175, 164, 160, 169, 165])\n",
        "daughters_height = np.array([173, 175, 162, 174, 175, 168, 155, 170, 160, 163])"
      ],
      "metadata": {
        "id": "V-jVPb9kMqDW"
      },
      "execution_count": 9,
      "outputs": []
    },
    {
      "cell_type": "markdown",
      "source": [
        "# **Теория вероятностей 2ч**"
      ],
      "metadata": {
        "id": "vcgqCGVxPk8F"
      }
    },
    {
      "cell_type": "markdown",
      "source": [
        "## Домашнее задание №6"
      ],
      "metadata": {
        "id": "0nQowp1fPqIA"
      }
    }
  ]
}