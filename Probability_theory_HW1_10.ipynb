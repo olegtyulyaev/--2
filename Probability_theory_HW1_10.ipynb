{
  "nbformat": 4,
  "nbformat_minor": 0,
  "metadata": {
    "colab": {
      "provenance": [],
      "toc_visible": true,
      "authorship_tag": "ABX9TyN9xKGmUgmhcH3b0Z2xlTa3",
      "include_colab_link": true
    },
    "kernelspec": {
      "name": "python3",
      "display_name": "Python 3"
    },
    "language_info": {
      "name": "python"
    }
  },
  "cells": [
    {
      "cell_type": "markdown",
      "metadata": {
        "id": "view-in-github",
        "colab_type": "text"
      },
      "source": [
        "<a href=\"https://colab.research.google.com/github/olegtyulyaev/--2/blob/main/Probability_theory_HW1_10.ipynb\" target=\"_parent\"><img src=\"https://colab.research.google.com/assets/colab-badge.svg\" alt=\"Open In Colab\"/></a>"
      ]
    },
    {
      "cell_type": "markdown",
      "source": [
        "# **Теория вероятностей 1ч**\n"
      ],
      "metadata": {
        "id": "xnqxxJZkXgsA"
      }
    },
    {
      "cell_type": "markdown",
      "source": [
        "\n",
        "## Домашнее задание №1"
      ],
      "metadata": {
        "id": "Zgua4J2ve6Bn"
      }
    },
    {
      "cell_type": "markdown",
      "source": [],
      "metadata": {
        "id": "W8n8KOT0VgVX"
      }
    },
    {
      "cell_type": "markdown",
      "source": [
        "**Задача 1.**\n",
        "\n",
        " Из колоды в 52 карты извлекаются случайным образом 4 карты.\n",
        "\n",
        "1.   Найти вероятность того, что все 4 карты – крести\n",
        "2.   Найти вероятность, что среди 4-х карт окажется хотя бы один туз."
      ],
      "metadata": {
        "id": "tSxtToflXyFS"
      }
    },
    {
      "cell_type": "code",
      "source": [
        "from math import factorial\n",
        "a = factorial(13) // (factorial (4) * factorial (13-4) )\n",
        "b = factorial(39) // (factorial (0) * factorial (39-0) )\n",
        "\n",
        "c = factorial(52) // (factorial (4) * factorial (52-4) )\n",
        "(a*b)/c"
      ],
      "metadata": {
        "colab": {
          "base_uri": "https://localhost:8080/"
        },
        "id": "BAckL2l7YGOz",
        "outputId": "1c97644f-6293-4e8f-ac60-75cca5e7eab9"
      },
      "execution_count": null,
      "outputs": [
        {
          "output_type": "execute_result",
          "data": {
            "text/plain": [
              "0.0026410564225690276"
            ]
          },
          "metadata": {},
          "execution_count": 10
        }
      ]
    },
    {
      "cell_type": "code",
      "source": [
        "a = factorial(48) // (factorial (4) * factorial (48-4))\n",
        "b = factorial(52) // (factorial (4) * factorial (52-4))\n",
        "1-(a/b)"
      ],
      "metadata": {
        "colab": {
          "base_uri": "https://localhost:8080/"
        },
        "id": "SM-8xPzpY_bw",
        "outputId": "1211db44-8e50-424e-c319-5e3cf4f36e2a"
      },
      "execution_count": null,
      "outputs": [
        {
          "output_type": "execute_result",
          "data": {
            "text/plain": [
              "0.2812632745405854"
            ]
          },
          "metadata": {},
          "execution_count": 12
        }
      ]
    },
    {
      "cell_type": "markdown",
      "source": [
        "**Ответ**\n",
        "1.   P (4 трефы) = 0,26%\n",
        "2.   P (хотя бы 1 туз) = 28,13%\n"
      ],
      "metadata": {
        "id": "JEfVc5BOZfU8"
      }
    },
    {
      "cell_type": "markdown",
      "source": [
        "**Задача 2.**\n",
        "\n",
        "На входной двери подъезда установлен кодовый замок, содержащий десять кнопок с цифрами от 0 до 9. Код содержит три цифры, которые нужно нажать одновременно . Какова вероятность того, что человек, не знающий код, откроет дверь с первой попытки?"
      ],
      "metadata": {
        "id": "O-7Vf3sdbt7L"
      }
    },
    {
      "cell_type": "code",
      "source": [
        "a = factorial(10) / (factorial (3) * factorial (10-3))\n",
        "a"
      ],
      "metadata": {
        "colab": {
          "base_uri": "https://localhost:8080/"
        },
        "id": "uPiap1m7b0Gw",
        "outputId": "21a163a6-0922-403a-ae40-483c72647266"
      },
      "execution_count": null,
      "outputs": [
        {
          "output_type": "execute_result",
          "data": {
            "text/plain": [
              "120.0"
            ]
          },
          "metadata": {},
          "execution_count": 13
        }
      ]
    },
    {
      "cell_type": "markdown",
      "source": [
        "**Ответ**\n",
        "\n",
        "120 возможных исходов, из которых один благоприятный, искомая вероятность равна 1/120 или 0,83%"
      ],
      "metadata": {
        "id": "0fz9nhpscBsy"
      }
    },
    {
      "cell_type": "markdown",
      "source": [
        "**Задача 3.**\n",
        "\n",
        "В ящике имеется 15 деталей, из которых 9 окрашены. Рабочий случайным образом извлекает 3 детали. Какова вероятность того, что все 3 извлеченные детали окрашены?"
      ],
      "metadata": {
        "id": "QrU49tL9clla"
      }
    },
    {
      "cell_type": "code",
      "source": [
        "a = factorial(9) // (factorial (3) * factorial (9-3))\n",
        "b = factorial(6) // (factorial (0) * factorial (6-0) )\n",
        "\n",
        "c = factorial(15) // (factorial (3) * factorial (15-3))\n",
        "\n",
        "(a*b)/c"
      ],
      "metadata": {
        "colab": {
          "base_uri": "https://localhost:8080/"
        },
        "id": "lLWH1R9jctxo",
        "outputId": "8c88dfba-21ac-49d6-f5dc-cb7b826f72c5"
      },
      "execution_count": null,
      "outputs": [
        {
          "output_type": "execute_result",
          "data": {
            "text/plain": [
              "0.18461538461538463"
            ]
          },
          "metadata": {},
          "execution_count": 15
        }
      ]
    },
    {
      "cell_type": "markdown",
      "source": [
        "**Ответ**\n",
        "\n",
        "P (3 из 3х окрашены) = 18,46%"
      ],
      "metadata": {
        "id": "VnoaHk1GdAno"
      }
    },
    {
      "cell_type": "markdown",
      "source": [
        "**Задача 4.**\n",
        "\n",
        "В лотерее 100 билетов. Из них 2 выигрышных. Какова вероятность того, что 2 приобретенных билета окажутся выигрышными?"
      ],
      "metadata": {
        "id": "nkDvpy-IdLZd"
      }
    },
    {
      "cell_type": "code",
      "source": [
        "a = factorial(2) // (factorial (2) * factorial (2-2) )\n",
        "b = factorial(98) // (factorial (0) * factorial (98-0) )\n",
        "\n",
        "c = factorial(100) // (factorial (2) * factorial (100-2) )\n",
        "\n",
        "(a*b)/c"
      ],
      "metadata": {
        "colab": {
          "base_uri": "https://localhost:8080/"
        },
        "id": "uQIKy_gidRVp",
        "outputId": "c8b12145-7b0f-45f9-d18c-90752775e632"
      },
      "execution_count": null,
      "outputs": [
        {
          "output_type": "execute_result",
          "data": {
            "text/plain": [
              "0.00020202020202020202"
            ]
          },
          "metadata": {},
          "execution_count": 16
        }
      ]
    },
    {
      "cell_type": "markdown",
      "source": [
        "**Ответ**\n",
        "\n",
        "P (оба билеты выигрышные) = 0,02%"
      ],
      "metadata": {
        "id": "IGweguB3dar1"
      }
    },
    {
      "cell_type": "markdown",
      "source": [
        "\n",
        "## Домашнее задание №2"
      ],
      "metadata": {
        "id": "dv3NWPcY4VtR"
      }
    },
    {
      "cell_type": "markdown",
      "source": [
        "**Задача 2.1**\n",
        "\n",
        " Вероятность того, что стрелок попадет в мишень, выстрелив один раз, равна 0.8. Стрелок выстрелил 100 раз. Найдите вероятность того, что стрелок попадет в цель ровно 85 раз."
      ],
      "metadata": {
        "id": "1nvt3Cj74c81"
      }
    },
    {
      "cell_type": "code",
      "source": [
        "from math import factorial, exp\n",
        "def bernulli(n, k, p):\n",
        "    result =factorial(n)/(factorial(k)*factorial(n-k))\n",
        "    return result*(p**k)*(1-p)**(n-k)\n",
        "\n",
        "# Формула биномиального распределения: P(n)(X=k) = С(n,k) * p^k * q^(n-k) k = 85; n = 100; p = 0.8; q = 1-0.8 = 0.2"
      ],
      "metadata": {
        "id": "JsyshosQ48-k"
      },
      "execution_count": null,
      "outputs": []
    },
    {
      "cell_type": "code",
      "source": [
        "print(f' P ={bernulli(100,85,0.8): .5f}')"
      ],
      "metadata": {
        "colab": {
          "base_uri": "https://localhost:8080/"
        },
        "id": "hRv_yV075E8_",
        "outputId": "3a8f7b50-2cd9-44f9-dfe6-0fc9e3f37fe2"
      },
      "execution_count": null,
      "outputs": [
        {
          "output_type": "stream",
          "name": "stdout",
          "text": [
            " P = 0.04806\n"
          ]
        }
      ]
    },
    {
      "cell_type": "markdown",
      "source": [
        "**Задача 2.2**\n",
        "\n",
        "Вероятность того, что лампочка перегорит в течение первого дня эксплуатации, равна 0.0004. В жилом комплексе после ремонта в один день включили 5000 новых лампочек. Какова вероятность, что ни одна из них не перегорит в первый день? Какова вероятность, что перегорят ровно две?"
      ],
      "metadata": {
        "id": "48ZSGFxs6eRm"
      }
    },
    {
      "cell_type": "code",
      "source": [
        "p = 0.0004\n",
        "n = 5000\n",
        "lamda = p * n\n",
        "lamda\n",
        "\n",
        "#формула Пуассона  P(m) = (lambda^m / m!) * e^(-lambda)"
      ],
      "metadata": {
        "colab": {
          "base_uri": "https://localhost:8080/"
        },
        "id": "NWwiIRe16ot9",
        "outputId": "5333101c-4dad-429b-92f1-fd08a904e3bf"
      },
      "execution_count": null,
      "outputs": [
        {
          "output_type": "execute_result",
          "data": {
            "text/plain": [
              "2.0"
            ]
          },
          "metadata": {},
          "execution_count": 33
        }
      ]
    },
    {
      "cell_type": "code",
      "source": [
        "import math\n",
        "P_0 = (lamda**0/(factorial(0))) * (math.e **-lamda)\n",
        "print(f' P ={(P_0): .5f}')\n"
      ],
      "metadata": {
        "colab": {
          "base_uri": "https://localhost:8080/"
        },
        "id": "WMgwjkpM7UKc",
        "outputId": "7772df5e-3fd0-45ee-a086-c2488b8a0aa0"
      },
      "execution_count": null,
      "outputs": [
        {
          "output_type": "stream",
          "name": "stdout",
          "text": [
            " P = 0.13534\n"
          ]
        }
      ]
    },
    {
      "cell_type": "code",
      "source": [
        "P_2 = (lamda**2/(factorial(2))) * (math.e **-lamda)\n",
        "print(f' P ={(P_2): .5f}')\n"
      ],
      "metadata": {
        "colab": {
          "base_uri": "https://localhost:8080/"
        },
        "id": "nrDNA8yJ-ms7",
        "outputId": "438b56e6-5f44-47f9-c56c-d09b52a2be79"
      },
      "execution_count": null,
      "outputs": [
        {
          "output_type": "stream",
          "name": "stdout",
          "text": [
            " P = 0.27067\n"
          ]
        }
      ]
    },
    {
      "cell_type": "markdown",
      "source": [
        "**Ответ**\n",
        "\n",
        "P (0 лампочек перегорит) = 13,5%\n",
        "\n",
        "P (2 лампочки перегорят) = 27,1%"
      ],
      "metadata": {
        "id": "I_aeDZgj-vgR"
      }
    },
    {
      "cell_type": "markdown",
      "source": [
        "**Задача 2.3**\n",
        "\n",
        "Монету подбросили 144 раза. Какова вероятность, что орел выпадет ровно 70 раз?"
      ],
      "metadata": {
        "id": "XcjiMPdl_TED"
      }
    },
    {
      "cell_type": "code",
      "source": [
        "print(f'P = {bernulli(144,70,0.5): .5f}')"
      ],
      "metadata": {
        "colab": {
          "base_uri": "https://localhost:8080/"
        },
        "id": "TmwXgyix_fB5",
        "outputId": "df6efd5e-6d70-4a01-e4a3-c3cd23767dfa"
      },
      "execution_count": null,
      "outputs": [
        {
          "output_type": "stream",
          "name": "stdout",
          "text": [
            "P =  0.06281\n"
          ]
        }
      ]
    },
    {
      "cell_type": "markdown",
      "source": [
        "**Ответ**\n",
        "\n",
        "Вероятность, что орел выпадет ровно 70 раз = 6,28%"
      ],
      "metadata": {
        "id": "bFnX5cauALKL"
      }
    },
    {
      "cell_type": "markdown",
      "source": [
        "**Задача 2.4**\n",
        "\n",
        "В первом ящике находится 10 мячей, из которых 7 - белые. Во втором ящике - 11 мячей, из которых 9 белых. Из каждого ящика вытаскивают случайным образом по два мяча.\n",
        "\n",
        "* 2.4.1 Какова вероятность того, что все мячи белые?\n",
        "* 2.4.2 Какова вероятность того, что ровно два мяча белые?\n",
        "* 2.4.3 Какова вероятность того, что хотя бы один мяч белый?"
      ],
      "metadata": {
        "id": "Nc3HnxAUAgt4"
      }
    },
    {
      "cell_type": "code",
      "source": [
        "p4=7/10*6/9*9/11*8/10\n",
        "p2=7/10*6/9*2/11*1/10+3/10*2/9*9/11*8/10+(7/10*3/9+3/10*7/9)*(9/11*2/10+2/11*9/10)\n",
        "p1=1-3/10*2/9*2/11*1/10\n",
        "\n",
        "def comb(k, n):\n",
        " return factorial(n) / (factorial(k) * factorial(n - k))\n",
        "\n",
        "#первая и вторая корзина по 2 белых мяча\n",
        "p4 = comb(2, 7) / comb(2, 10) * comb(2, 9) / comb(2, 11)\n",
        "\n",
        "#первая или вторая корзина 2 белых мяча\n",
        "p2 = (comb(2, 7) / comb(2, 10) * comb(2, 2) / comb(2, 11)) + (comb(2, 3) / comb(2, 10) * comb(2, 9) / comb(2, 11))\n",
        "\n",
        "#первая и вторая корзина по одному белому мячу\n",
        "p2 += comb(1, 7) * comb(1, 3) /  comb(2, 10) * comb(1, 9) * comb(1, 2) / comb(2, 11)\n",
        "\n",
        "#обратная вероятность вытащить ноль белых мячей\n",
        "p1 = 1 - comb(0, 7) / comb(7, 10) * comb(0, 9) / comb(9, 11)\n",
        "\n",
        "\n",
        "print(f'Ответ 2.4.1 - все мячи белые = {p4:.5f}')\n",
        "print(f'Ответ 2.4.2 - 2 мяча белые = {p2:.5f}')\n",
        "print(f'Ответ 2.4.3 - хотя бы 1 мяч белый = {p1:.5f}')"
      ],
      "metadata": {
        "colab": {
          "base_uri": "https://localhost:8080/"
        },
        "id": "BwTNOCJhBOOk",
        "outputId": "9e36db33-95b2-4077-ce72-07484a5dd6ce"
      },
      "execution_count": null,
      "outputs": [
        {
          "output_type": "stream",
          "name": "stdout",
          "text": [
            "Ответ 2.4.1 - все мячи белые = 0.30545\n",
            "Ответ 2.4.2 - 2 мяча белые = 0.20485\n",
            "Ответ 2.4.3 - хотя бы 1 мяч белый = 0.99985\n"
          ]
        }
      ]
    },
    {
      "cell_type": "markdown",
      "source": [
        "## Домашнее задание №3"
      ],
      "metadata": {
        "id": "mgtHmrJvVmZ7"
      }
    },
    {
      "cell_type": "markdown",
      "source": [
        "**Задача 3.1.**\n",
        "\n",
        "Даны значения зарплат из выборки выпускников: 100, 80, 75, 77, 89, 33, 45, 25, 65, 17, 30, 24, 57, 55, 70, 75, 65, 84, 90, 150. Посчитать (желательно без использования статистических методов наподобие std, var, mean) среднее арифметическое, среднее квадратичное отклонение, смещенную и несмещенную оценки дисперсий для данной выборки."
      ],
      "metadata": {
        "id": "SbLr3qU7V-Fw"
      }
    },
    {
      "cell_type": "code",
      "source": [
        "import numpy as np\n",
        "from math import factorial\n",
        "arr=np.array([100, 80, 75, 77, 89, 33, 45, 25, 65, 17, 30, 24, 57, 55, 70, 75, 65, 84, 90, 150])\n",
        "arr\n",
        "\n",
        "def mean_value(array):\n",
        "    return sum(array)/len(array)\n",
        "\n",
        "print(f'Среднее арифметическое М(Х) = {mean_value(arr): .2f}')"
      ],
      "metadata": {
        "colab": {
          "base_uri": "https://localhost:8080/"
        },
        "id": "jL94i14wWLta",
        "outputId": "3362971a-a6cd-4b3a-80a3-9197b01a6f9a"
      },
      "execution_count": null,
      "outputs": [
        {
          "output_type": "stream",
          "name": "stdout",
          "text": [
            "Среднее арифметическое М(Х) =  65.30\n"
          ]
        }
      ]
    },
    {
      "cell_type": "code",
      "source": [
        "def mean_square_deviation(array):\n",
        "    square_dev=(array-mean_value(array))**2\n",
        "    return (sum(square_dev)/len(square_dev))**(1/2)\n",
        "\n",
        "print(f'Среднее квадратичное отклонение D(X) = {mean_square_deviation(arr): .2f}')"
      ],
      "metadata": {
        "colab": {
          "base_uri": "https://localhost:8080/"
        },
        "id": "KG3GUU40YdtO",
        "outputId": "169c101f-18b4-4624-e826-2ad43aaec7f6"
      },
      "execution_count": null,
      "outputs": [
        {
          "output_type": "stream",
          "name": "stdout",
          "text": [
            "Среднее квадратичное отклонение D(X) =  30.82\n"
          ]
        }
      ]
    },
    {
      "cell_type": "code",
      "source": [
        "def dispers(array):\n",
        "    square_dev=(array-mean_value(array))**2\n",
        "    return sum(square_dev)/(len(square_dev)-1)\n",
        "\n",
        "def dispers_slap(array):\n",
        "    square_dev=(array-mean_value(array))**2\n",
        "    return sum(square_dev)/(len(square_dev))\n",
        "\n",
        "print(f'Смещенная D = {dispers(arr): .2f}')\n",
        "print(f'Немещенная D = {dispers_slap(arr): .2f}')"
      ],
      "metadata": {
        "colab": {
          "base_uri": "https://localhost:8080/"
        },
        "id": "t-fwXdTOgh9v",
        "outputId": "109ef0d1-64e4-4e68-f606-adc4059b0f57"
      },
      "execution_count": null,
      "outputs": [
        {
          "output_type": "stream",
          "name": "stdout",
          "text": [
            "Смещенная D =  1000.12\n",
            "Немещенная D =  950.11\n"
          ]
        }
      ]
    },
    {
      "cell_type": "markdown",
      "source": [],
      "metadata": {
        "id": "DWel4JK5WTuP"
      }
    },
    {
      "cell_type": "markdown",
      "source": [
        "**Задача 3.2.**\n",
        "\n",
        "В первом ящике находится 8 мячей, из которых 5 - белые. Во втором ящике - 12 мячей, из которых 5 белых. Из первого ящика вытаскивают случайным образом два мяча, из второго - 4 мяча. Какова вероятность того, что 3 мяча белые?"
      ],
      "metadata": {
        "id": "XjAcmzH6WZ9I"
      }
    },
    {
      "cell_type": "code",
      "source": [
        "import numpy as np\n",
        "from math import factorial\n",
        "\n",
        "def combinations(n,k):\n",
        "    return factorial(n)/(factorial(k)*factorial(n-k))"
      ],
      "metadata": {
        "id": "01djuDFDXhU0"
      },
      "execution_count": null,
      "outputs": []
    },
    {
      "cell_type": "code",
      "source": [
        "P1=(combinations(3,2)/combinations(8,2)) * (combinations(5,3) * combinations(7,1)/combinations(12,4))\n",
        "print(f'Вероятность события \"из первой корзины не вытащили ни одного белого мяча'\n",
        "      f', из второй вытащили 3 белых мяча\"\\nP(A1) = {P1: .4f}'\n",
        "     )"
      ],
      "metadata": {
        "colab": {
          "base_uri": "https://localhost:8080/"
        },
        "id": "j0sR_1BFYKEo",
        "outputId": "b70beae9-a770-43ea-e312-9d9c0e65cd6b"
      },
      "execution_count": null,
      "outputs": [
        {
          "output_type": "stream",
          "name": "stdout",
          "text": [
            "Вероятность события \"из первой корзины не вытащили ни одного белого мяча, из второй вытащили 3 белых мяча\"\n",
            "P(A1) =  0.0152\n"
          ]
        }
      ]
    },
    {
      "cell_type": "code",
      "source": [
        "P2=(combinations(5,1)*combinations(3,1)*combinations(5,2)*combinations(7,2))/(combinations(8,2)*combinations(12,4))\n",
        "print(f'Вероятность события \"из первой корзины вытащили 1 белый мяч'\n",
        "      f', из второй вытащили 2 белых мяча\"\\nP(A2) = {P2: .4f}'\n",
        "     )"
      ],
      "metadata": {
        "colab": {
          "base_uri": "https://localhost:8080/"
        },
        "id": "K4ppR25sZB5y",
        "outputId": "96bfe5e9-c414-444e-e7ab-f266d7b2e9ca"
      },
      "execution_count": null,
      "outputs": [
        {
          "output_type": "stream",
          "name": "stdout",
          "text": [
            "Вероятность события \"из первой корзины вытащили 1 белый мяч, из второй вытащили 2 белых мяча\"\n",
            "P(A2) =  0.2273\n"
          ]
        }
      ]
    },
    {
      "cell_type": "code",
      "source": [
        "P3=(combinations(5,2)*combinations(5,1)*combinations(7,3))/(combinations(8,2)*combinations(12,4))\n",
        "print(f'Вероятность события \"из первой корзины вытащили 2 белых мяча'\n",
        "      f', из второй вытащили 1 белый мяч\"\\nP(A3) = {P3: .4f}'\n",
        "     )"
      ],
      "metadata": {
        "colab": {
          "base_uri": "https://localhost:8080/"
        },
        "id": "dgiWjTLRY7Ae",
        "outputId": "1784b5fd-bc15-4425-ff26-3dea4ac87ab1"
      },
      "execution_count": null,
      "outputs": [
        {
          "output_type": "stream",
          "name": "stdout",
          "text": [
            "Вероятность события \"из первой корзины вытащили 2 белых мяча, из второй вытащили 1 белый мяч\"\n",
            "P(A3) =  0.1263\n"
          ]
        }
      ]
    },
    {
      "cell_type": "code",
      "source": [
        "print(f'Вероятность того, что из вытащенных мячей 3 белые Р(А) = {P1+P2+P3: .4f}')"
      ],
      "metadata": {
        "colab": {
          "base_uri": "https://localhost:8080/"
        },
        "id": "DuG-TYn_ZPlW",
        "outputId": "a9f707cd-3799-4095-bff9-25404aea00df"
      },
      "execution_count": null,
      "outputs": [
        {
          "output_type": "stream",
          "name": "stdout",
          "text": [
            "Вероятность того, что из вытащенных мячей 3 белые Р(А) =  0.3687\n"
          ]
        }
      ]
    },
    {
      "cell_type": "markdown",
      "source": [
        "**Задача 3.3**\n",
        "\n",
        "На соревновании по биатлону один из трех спортсменов стреляет и попадает в мишень. Вероятность попадания для первого спортсмена равна 0.9, для второго — 0.8, для третьего — 0.6. Найти вероятность того, что выстрел произведен: a). первым спортсменом б). вторым спортсменом в). третьим спортсменом."
      ],
      "metadata": {
        "id": "cV2tx2PKZXl1"
      }
    },
    {
      "cell_type": "code",
      "source": [
        "PB=1/3\n",
        "PA=PB*0.9+PB*0.8+PB*0.6\n",
        "print(f'Полная вероятность наступления события А Р(А) = {PA: .4f}')"
      ],
      "metadata": {
        "colab": {
          "base_uri": "https://localhost:8080/"
        },
        "id": "ZaAFUWr0Zb18",
        "outputId": "43995ca2-080b-41fb-be58-407e602784e6"
      },
      "execution_count": null,
      "outputs": [
        {
          "output_type": "stream",
          "name": "stdout",
          "text": [
            "Полная вероятность наступления события А Р(А) =  0.7667\n"
          ]
        }
      ]
    },
    {
      "cell_type": "code",
      "source": [
        "PAB1=PB*0.9/PA\n",
        "PAB2=PB*0.8/PA\n",
        "PAB3=PB*0.6/PA\n",
        "print(f'Вероятность того, что выстрел произвёл первый спортсмен: {PAB1: .4f};\\n'\n",
        "      f'Вероятность того, что выстрел произвёл второй спортсмен: {PAB2: .4f};\\n'\n",
        "      f'Вероятность того, что выстрел произвёл третий спортсмен: {PAB3: .4f}.'\n",
        "     )"
      ],
      "metadata": {
        "colab": {
          "base_uri": "https://localhost:8080/"
        },
        "id": "XtPCKvFfZj5X",
        "outputId": "d1f0c4de-e185-44dd-fba1-c7a65bd1fd48"
      },
      "execution_count": null,
      "outputs": [
        {
          "output_type": "stream",
          "name": "stdout",
          "text": [
            "Вероятность того, что выстрел произвёл первый спортсмен:  0.3913;\n",
            "Вероятность того, что выстрел произвёл второй спортсмен:  0.3478;\n",
            "Вероятность того, что выстрел произвёл третий спортсмен:  0.2609.\n"
          ]
        }
      ]
    },
    {
      "cell_type": "markdown",
      "source": [
        "**Задача 4.4**\n",
        "\n",
        " В университет на факультеты A и B поступило равное количество студентов, а на факультет C студентов поступило столько же, сколько на A и B вместе. Вероятность того, что студент факультета A сдаст первую сессию, равна 0.8. Для студента факультета B эта вероятность равна 0.7, а для студента факультета C - 0.9. Студент сдал первую сессию. Какова вероятность, что он учится: a). на факультете A б). на факультете B в). на факультете C?"
      ],
      "metadata": {
        "id": "tx_rqI2IZqrd"
      }
    },
    {
      "cell_type": "code",
      "source": [
        "PD=0.25*0.8+0.25*0.7+0.5*0.9\n",
        "print(f'Полная вероятность наступления события D, P(D) = {PD}.')"
      ],
      "metadata": {
        "colab": {
          "base_uri": "https://localhost:8080/"
        },
        "id": "Exfopqp1bvBz",
        "outputId": "c9078f26-64f6-4ddd-92b1-d36fc7c29559"
      },
      "execution_count": null,
      "outputs": [
        {
          "output_type": "stream",
          "name": "stdout",
          "text": [
            "Полная вероятность наступления события D, P(D) = 0.825.\n"
          ]
        }
      ]
    },
    {
      "cell_type": "code",
      "source": [
        "PDSA=0.25*0.8/PD\n",
        "PDSB=0.25*0.7/PD\n",
        "PDSC=0.5*0.9/PD\n",
        "print(f'Вероятность того, что студент учится на факультете А: {PDSA: .4f};\\n'\n",
        "      f'Вероятность того, что студент учится на факультете B: {PDSB: .4f};\\n'\n",
        "      f'Вероятность того, что студент учится на факультете C: {PDSC: .4f}.'\n",
        "      )"
      ],
      "metadata": {
        "colab": {
          "base_uri": "https://localhost:8080/"
        },
        "id": "mD9nS5ZOb0aG",
        "outputId": "54487d41-db98-4c82-9685-dbabf21dda71"
      },
      "execution_count": null,
      "outputs": [
        {
          "output_type": "stream",
          "name": "stdout",
          "text": [
            "Вероятность того, что студент учится на факультете А:  0.2424;\n",
            "Вероятность того, что студент учится на факультете B:  0.2121;\n",
            "Вероятность того, что студент учится на факультете C:  0.5455.\n"
          ]
        }
      ]
    },
    {
      "cell_type": "markdown",
      "source": [
        "**Задача 3.5.**\n",
        "\n",
        " Устройство состоит из трех деталей. Для первой детали вероятность выйти из строя в первый месяц равна 0.1, для второй - 0.2, для третьей - 0.25. Какова вероятность того, что в первый месяц выйдут из строя: а). все детали б). только две детали в). хотя бы одна деталь г). от одной до двух деталей?"
      ],
      "metadata": {
        "id": "PwD8qrJ4b7xL"
      }
    },
    {
      "cell_type": "code",
      "source": [
        "P3=0.1*0.2*0.25\n",
        "print(f'Вероятность того, что из строя выйдут все детали Р(3) = {P3: .4f}')"
      ],
      "metadata": {
        "colab": {
          "base_uri": "https://localhost:8080/"
        },
        "id": "G5Gu-s4AcWBZ",
        "outputId": "60eebe90-1998-44d7-c0d9-469ceb46d153"
      },
      "execution_count": null,
      "outputs": [
        {
          "output_type": "stream",
          "name": "stdout",
          "text": [
            "Вероятность того, что из строя выйдут все детали Р(3) =  0.0050\n"
          ]
        }
      ]
    },
    {
      "cell_type": "code",
      "source": [
        "P2=0.1*0.2*0.75+0.1*0.25*0.8+0.2*0.25*0.9\n",
        "print(f'Вероятность того, что из строя выйдут только 2 детали Р(2) = {P2: .4f}')"
      ],
      "metadata": {
        "colab": {
          "base_uri": "https://localhost:8080/"
        },
        "id": "6g80e-Pxce6K",
        "outputId": "9b008c5e-dd4a-47e0-f53a-b06013b1c823"
      },
      "execution_count": null,
      "outputs": [
        {
          "output_type": "stream",
          "name": "stdout",
          "text": [
            "Вероятность того, что из строя выйдут только 2 детали Р(2) =  0.0800\n"
          ]
        }
      ]
    },
    {
      "cell_type": "code",
      "source": [
        "P0=0.9*0.8*0.75\n",
        "print(f'Вероятность того, что из строя не выйдет ни одной детали Р(0) = {P0: .4f}')"
      ],
      "metadata": {
        "colab": {
          "base_uri": "https://localhost:8080/"
        },
        "id": "lm2_eUBRciHn",
        "outputId": "05287cc2-f1f4-4d8c-b394-6b9c8994b8ee"
      },
      "execution_count": null,
      "outputs": [
        {
          "output_type": "stream",
          "name": "stdout",
          "text": [
            "Вероятность того, что из строя не выйдет ни одной детали Р(0) =  0.5400\n"
          ]
        }
      ]
    },
    {
      "cell_type": "code",
      "source": [
        "P_0=1-P0\n",
        "print(f'Вероятность того, что выйдет из строя хотя бы одна деталь Р(>=1) = {P_0: .4f}')"
      ],
      "metadata": {
        "colab": {
          "base_uri": "https://localhost:8080/"
        },
        "id": "dvwPI5GFcmN4",
        "outputId": "0471c1de-b8c2-4f00-a8ea-260317b9868e"
      },
      "execution_count": null,
      "outputs": [
        {
          "output_type": "stream",
          "name": "stdout",
          "text": [
            "Вероятность того, что выйдет из строя хотя бы одна деталь Р(>=1) =  0.4600\n"
          ]
        }
      ]
    },
    {
      "cell_type": "code",
      "source": [],
      "metadata": {
        "id": "lvZ3yqhxFRn9"
      },
      "execution_count": null,
      "outputs": []
    },
    {
      "cell_type": "markdown",
      "source": [
        "\n",
        "## Домашнее задание №4"
      ],
      "metadata": {
        "id": "Sof-1T6wfy7S"
      }
    },
    {
      "cell_type": "markdown",
      "source": [
        "**Задача 4.1.**\n",
        "\n",
        " Случайная непрерывная величина A имеет равномерное распределение на\n",
        "промежутке (200, 800].\n",
        "\n",
        "Найдите ее среднее значение и дисперсию."
      ],
      "metadata": {
        "id": "zMcyixbWgg2x"
      }
    },
    {
      "cell_type": "code",
      "source": [
        "def mean_and_variance(a,b):\n",
        "    return f'({a};{b}]\\nСреднее значение: М(А) = {(a+b)/2: .2f}\\nДисперсия: D(A) = {((b-a)**2)/12: .2f}'\n",
        "print(mean_and_variance(200,800))"
      ],
      "metadata": {
        "colab": {
          "base_uri": "https://localhost:8080/"
        },
        "id": "3PYjczd6goxy",
        "outputId": "70d2f371-8824-4165-92fb-7181f91dde59"
      },
      "execution_count": null,
      "outputs": [
        {
          "output_type": "stream",
          "name": "stdout",
          "text": [
            "(200;800]\n",
            "Среднее значение: М(А) =  500.00\n",
            "Дисперсия: D(A) =  30000.00\n"
          ]
        }
      ]
    },
    {
      "cell_type": "markdown",
      "source": [
        "**Задача 4.2.**\n",
        "\n",
        "О случайной непрерывной равномерно распределенной величине B известно, что ее\n",
        "дисперсия равна 0.2.\n",
        "Можно ли найти правую границу величины B и ее среднее значение зная, что левая\n",
        "граница равна 0.5?\n",
        "Если да, найдите ее."
      ],
      "metadata": {
        "id": "xqrkhhmOhBo2"
      }
    },
    {
      "cell_type": "code",
      "source": [
        "b=0.5+2.4**(1/2)\n",
        "print(f'Левая граница распределения величины В - b = {b: .3f}\\n'\n",
        "      f'Среднее значение В на промежутке (0.5; {b: .3f}) M(B) = {(b+0.5)/2: .3f}'\n",
        "     )"
      ],
      "metadata": {
        "colab": {
          "base_uri": "https://localhost:8080/"
        },
        "id": "j7RccpbSipTm",
        "outputId": "8dedf9ee-2c51-42ef-881a-db925d689054"
      },
      "execution_count": null,
      "outputs": [
        {
          "output_type": "stream",
          "name": "stdout",
          "text": [
            "Левая граница распределения величины В - b =  2.049\n",
            "Среднее значение В на промежутке (0.5;  2.049) M(B) =  1.275\n"
          ]
        }
      ]
    },
    {
      "cell_type": "markdown",
      "source": [
        "**Задача 4.3.**\n",
        "\n",
        " Непрерывная случайная величина X распределена нормально и задана плотностью\n",
        "распределения\n",
        "f(x) = (1 / (4 * sqrt(2pi))) * exp((-(x+2)**2) / 32)\n",
        "\n",
        "Найдите:\n",
        "\n",
        "а). M(X)\n",
        "\n",
        "б). D(X)\n",
        "\n",
        "в). std(X) (среднее квадратичное отклонение)"
      ],
      "metadata": {
        "id": "czdL4tOni-HY"
      }
    },
    {
      "cell_type": "code",
      "source": [
        "print('M(x) = a = -2 \\n'\n",
        "      'std(x) = 4 \\n'\n",
        "      'D(x) = std(x)^2 = 16 \\n'\n",
        "      )"
      ],
      "metadata": {
        "colab": {
          "base_uri": "https://localhost:8080/"
        },
        "id": "JragmD0gjDO_",
        "outputId": "eb51fdb6-b3de-4610-d21f-5703b2404eae"
      },
      "execution_count": null,
      "outputs": [
        {
          "output_type": "stream",
          "name": "stdout",
          "text": [
            "M(x) = a = -2 \n",
            "std(x) = 4 \n",
            "D(x) = std(x)^2 = 16 \n",
            "\n"
          ]
        }
      ]
    },
    {
      "cell_type": "markdown",
      "source": [
        "**Задача 4.4.**\n",
        "\n",
        " Рост взрослого населения города X имеет нормальное распределение, причем, средний рост равен 174 см, а среднее квадратическое отклонение равно 8 см. посчитайте, какова вероятность того, что случайным образом выбранный взрослый человек имеет рост:\n",
        "1. больше 182 см?\n",
        "2. больше 190 см?\n",
        "3. от 166 см до 190 см?\n",
        "4. от 166 см до 182 см?\n",
        "5. от 158 см до 190 см?\n",
        "6. не выше 150 см или не ниже 190 см?\n",
        "7. не выше 150 см или не ниже 198 см?\n",
        "8. ниже 166 см?\n",
        "Задачу можно решить двумя способами: без использования сторонних библиотек (numpy, scipy, pandas и пр.), а затем проверить себя с помощью встроенных функций"
      ],
      "metadata": {
        "id": "S966dqg8j1i3"
      }
    },
    {
      "cell_type": "code",
      "source": [
        "from scipy.stats import norm\n",
        "from os import system\n",
        "\n",
        "mu = 174\n",
        "sigma = 8\n",
        "\n",
        "a = 182\n",
        "pa = 1-norm.cdf(a, mu, sigma)\n",
        "print(f'>>> Вероятность роста больше {a} см = {pa: .4f}')\n",
        "\n",
        "b = 190\n",
        "pb = 1-norm.cdf(b, mu, sigma)\n",
        "print(f'>>> Вероятность роста больше {b} см = {pb: .4f}')\n",
        "\n",
        "v1, v2 = 166, 190\n",
        "pv = norm.cdf(v2, mu, sigma)-norm.cdf(v1, mu, sigma)\n",
        "print(f'>>> Вероятность роста от {v1} см до {v2} см = {pv: .4f}')\n",
        "\n",
        "g1, g2 = 166, 182\n",
        "pg = norm.cdf(g2, mu, sigma)-norm.cdf(g1, mu, sigma)\n",
        "print(f'>>> Вероятность роста от {g1} см до {g2} см = {pg: .4f}')\n",
        "\n",
        "d1, d2 = 158, 190\n",
        "pd = norm.cdf(d2, mu, sigma)-norm.cdf(d1, mu, sigma)\n",
        "print(f'>>> Вероятность роста от {d1} см до {d2} см = {pd: .4f}')\n",
        "\n",
        "e1, e2 = 150, 190\n",
        "pe = norm.cdf(e1, mu, sigma)+1-norm.cdf(e2, mu, sigma)\n",
        "print(f'>>> Вероятность роста не выше {e1} см или не ниже {e2} см = {pe: .4f}')\n",
        "\n",
        "yo1, yo2 = 150, 198\n",
        "pyo = norm.cdf(yo1, mu, sigma)+1-norm.cdf(yo2, mu, sigma)\n",
        "print(\n",
        "    f'>>> Вероятность роста не выше {yo1} см или не ниже {yo2} см = {pyo: .4f}')\n",
        "\n",
        "zh = 166\n",
        "pzh = norm.cdf(zh, mu, sigma)\n",
        "print(f'>>> Вероятность роста ниже {zh} см = {pzh: .4f}')"
      ],
      "metadata": {
        "colab": {
          "base_uri": "https://localhost:8080/"
        },
        "id": "lMf9nnM8kGMc",
        "outputId": "f4a56565-94f6-4ad8-f414-d65cfcb452ca"
      },
      "execution_count": null,
      "outputs": [
        {
          "output_type": "stream",
          "name": "stdout",
          "text": [
            ">>> Вероятность роста больше 182 см =  0.1587\n",
            ">>> Вероятность роста больше 190 см =  0.0228\n",
            ">>> Вероятность роста от 166 см до 190 см =  0.8186\n",
            ">>> Вероятность роста от 166 см до 182 см =  0.6827\n",
            ">>> Вероятность роста от 158 см до 190 см =  0.9545\n",
            ">>> Вероятность роста не выше 150 см или не ниже 190 см =  0.0241\n",
            ">>> Вероятность роста не выше 150 см или не ниже 198 см =  0.0027\n",
            ">>> Вероятность роста ниже 166 см =  0.1587\n"
          ]
        }
      ]
    },
    {
      "cell_type": "markdown",
      "source": [
        "**Задача 4.5**\n",
        "\n",
        " На сколько сигм (средних квадратичных отклонений) отклоняется рост человека,\n",
        "равный 190 см, от\n",
        "математического ожидания роста в популяции, в которой M(X) = 178 см и D(X) = 25 кв.см?"
      ],
      "metadata": {
        "id": "HYr3x9NRkgwe"
      }
    },
    {
      "cell_type": "code",
      "source": [
        "Z=(190-178)/25**(1/2)\n",
        "print(f'Рост человека, равный 190 см, отклоняется от математического ожидания \\n'\n",
        "      f' M(X) = 178 см и D(X) = 25 кв.см на Z = {Z} сигмы.')"
      ],
      "metadata": {
        "colab": {
          "base_uri": "https://localhost:8080/"
        },
        "id": "s1xpNj2wkon2",
        "outputId": "d3e9a7ce-3daa-4dbf-b221-479b00f2497a"
      },
      "execution_count": null,
      "outputs": [
        {
          "output_type": "stream",
          "name": "stdout",
          "text": [
            "Рост человека, равный 190 см, отклоняется от математического ожидания \n",
            " M(X) = 178 см и D(X) = 25 кв.см на Z = 2.4 сигмы.\n"
          ]
        }
      ]
    },
    {
      "cell_type": "markdown",
      "source": [
        "\n",
        "## Домашнее задание №5"
      ],
      "metadata": {
        "id": "0BBujDPIFUPy"
      }
    },
    {
      "cell_type": "markdown",
      "source": [
        "**Задача 5.1.**\n",
        "\n",
        " Когда используется критерий Стьюдента, а когда Z –критерий?"
      ],
      "metadata": {
        "id": "nQDh3BOwFg9V"
      }
    },
    {
      "cell_type": "markdown",
      "source": [
        "**Ответ**: Критерий Стьюдента используется для определения того, существует ли значительная разница между средними значениями двух групп, обычно когда размер выборки невелик или стандартное отклонение генеральной совокупности неизвестно. Z-критерий используется, когда размер выборки велик (обычно n > 30) и известно стандартное отклонение генеральной совокупности."
      ],
      "metadata": {
        "id": "NRpMGtFKG-ol"
      }
    },
    {
      "cell_type": "markdown",
      "source": [
        "**Задача 5.2.**\n",
        "\n",
        "Утверждается, что шарики для подшипников, изготовленные\n",
        "автоматическим станком, имеют средний диаметр 17 мм.\n",
        "Используя односторонний критерий с α=0,05, проверить эту гипотезу, если в выборке из n=100 шариков средний диаметр оказался равным 17.5 мм, а дисперсия генеральной совокупности известна и равна 4 кв. мм."
      ],
      "metadata": {
        "id": "_EbiAw87HI30"
      }
    },
    {
      "cell_type": "markdown",
      "source": [
        "**Решение:** Поскольку нам известны и среднее и дисперсия генеральной совокупности, то для проверки гипотезы будем использовать Z-критерий."
      ],
      "metadata": {
        "id": "2RQpU5eGIIFb"
      }
    },
    {
      "cell_type": "code",
      "source": [
        "import scipy.stats as stats\n",
        "\n",
        "z=(17.5-17)/0.2\n",
        "print(f'Наблюдаемое значение: {z: .4f}')\n",
        "\n",
        "zt=stats.norm.ppf(0.95)\n",
        "print(f'Табличное значение z-критерия: {zt: .4f}')\n",
        "\n",
        "z<zt"
      ],
      "metadata": {
        "colab": {
          "base_uri": "https://localhost:8080/"
        },
        "id": "Stg7gqqbIPbE",
        "outputId": "95156525-5367-432f-8e08-17da2741eb8c"
      },
      "execution_count": null,
      "outputs": [
        {
          "output_type": "stream",
          "name": "stdout",
          "text": [
            "Наблюдаемое значение:  2.5000\n",
            "Табличное значение z-критерия:  1.6449\n"
          ]
        },
        {
          "output_type": "execute_result",
          "data": {
            "text/plain": [
              "False"
            ]
          },
          "metadata": {},
          "execution_count": 4
        }
      ]
    },
    {
      "cell_type": "markdown",
      "source": [
        "**Ответ:** нулевую гипотезу Н0 с мат  ожиданием 17 на уровне значимости 5% ***надо отвергнуть***"
      ],
      "metadata": {
        "id": "leQ2hptpIwVL"
      }
    },
    {
      "cell_type": "markdown",
      "source": [
        "**Задача 5.3.**\n",
        "\n",
        "Продавец утверждает, что средний вес пачки печенья\n",
        "составляет 200 г.\n",
        "Из партии извлечена выборка из 10 пачек. Вес каждой пачки составляет:\n",
        "202, 203, 199, 197, 195, 201, 200, 204, 194, 190.\n",
        "Известно, что их веса распределены нормально.\n",
        "Верно ли утверждение продавца, если учитывать, что уровень значимости 1%? (Провести двусторонний тест.)"
      ],
      "metadata": {
        "id": "JI2P5MKlJIvS"
      }
    },
    {
      "cell_type": "code",
      "source": [
        "import numpy as np\n",
        "cookies = np.array([202, 203, 199, 197, 195, 201, 200, 204, 194, 190])\n",
        "\n",
        "#Поскольку не известны ни среднее, ни дисперсия генеральной совокупности,\n",
        "#то для проверки гипотезы будем использовать t-критерий.\n",
        "\n",
        "tn=(np.mean(cookies)-200)/(np.std(cookies,ddof=1)/len(cookies)**0.5)\n",
        "print(f'Наблюдаемое значение t-критерия: {tn: .4f}')\n",
        "\n",
        "\n",
        "tt=stats.t.ppf(0.995,len(cookies)-1)\n",
        "print(f'Табличное значение t-критерия: {tt: .4f}')\n",
        "\n",
        "#Сравниваем t-наблюдаемое и t-табличное для определения верности Н0 гипотезы\n",
        "np.abs(tn)<tt"
      ],
      "metadata": {
        "colab": {
          "base_uri": "https://localhost:8080/"
        },
        "id": "nYlaNqStJ8kl",
        "outputId": "4f030b21-0cec-43d0-da52-bd1d07001592"
      },
      "execution_count": null,
      "outputs": [
        {
          "output_type": "stream",
          "name": "stdout",
          "text": [
            "Наблюдаемое значение t-критерия: -1.0651\n",
            "Табличное значение t-критерия:  3.2498\n"
          ]
        },
        {
          "output_type": "execute_result",
          "data": {
            "text/plain": [
              "True"
            ]
          },
          "metadata": {},
          "execution_count": 8
        }
      ]
    },
    {
      "cell_type": "markdown",
      "source": [
        "**Ответ:** нулевую гипотезу Н0 с мат ожиданием 200 на уровне значимости 1% ***надо принять***"
      ],
      "metadata": {
        "id": "Mu_IlG9zK8IU"
      }
    },
    {
      "cell_type": "markdown",
      "source": [
        "**Задача 5.4.**\n",
        "\n",
        "Есть ли статистически значимые различия в среднем росте матерей и\n",
        "дочерей?\n",
        "Рост матерей 172, 177, 158, 170, 178,175, 164, 160, 169, 165\n",
        "Рост взрослых дочерей: 173, 175, 162, 174, 175, 168, 155, 170, 160, 163"
      ],
      "metadata": {
        "id": "oAigJ2f3MbcV"
      }
    },
    {
      "cell_type": "code",
      "source": [
        "import numpy as np\n",
        "import scipy.stats as stats\n",
        "\n",
        "mothers_height = np.array([172, 177, 158, 170, 178,175, 164, 160, 169, 165])\n",
        "daughters_height = np.array([173, 175, 162, 174, 175, 168, 155, 170, 160, 163])\n",
        "\n",
        "stats.ttest_rel(mothers_height, daughters_height)"
      ],
      "metadata": {
        "id": "V-jVPb9kMqDW",
        "colab": {
          "base_uri": "https://localhost:8080/"
        },
        "outputId": "a717cd70-076f-4128-a5d2-20f4519577b9"
      },
      "execution_count": null,
      "outputs": [
        {
          "output_type": "execute_result",
          "data": {
            "text/plain": [
              "TtestResult(statistic=0.6648478531431979, pvalue=0.5228168632983574, df=9)"
            ]
          },
          "metadata": {},
          "execution_count": 6
        }
      ]
    },
    {
      "cell_type": "markdown",
      "source": [
        "**Ответ:** нулевую гипотезу Н0 ***надо принять*** статистических различий нет рост матерей и дочерей статистически не различается"
      ],
      "metadata": {
        "id": "z3cOhZ0Y46Io"
      }
    },
    {
      "cell_type": "markdown",
      "source": [
        "# **Теория вероятностей 2ч**"
      ],
      "metadata": {
        "id": "vcgqCGVxPk8F"
      }
    },
    {
      "cell_type": "markdown",
      "source": [
        "## Домашнее задание №6\n",
        "\n"
      ],
      "metadata": {
        "id": "0nQowp1fPqIA"
      }
    },
    {
      "cell_type": "markdown",
      "source": [
        "**Задача 6.1.**\n",
        "\n",
        "Известно, что генеральная совокупность распределена нормально\n",
        "со средним квадратическим отклонением, равным 16.\n",
        "Найти доверительный интервал для оценки математического ожидания с надежностью\n",
        "0.95,\n",
        "если выборочная средняя M = 80, а объем выборки n = 256."
      ],
      "metadata": {
        "id": "p99A6gHFSv0i"
      }
    },
    {
      "cell_type": "code",
      "source": [
        "import pandas as pd\n",
        "import numpy as np\n",
        "from statsmodels.stats.weightstats import _tconfint_generic as t_stat\n",
        "from scipy.stats import norm\n",
        "import math\n",
        "\n",
        "\n",
        "mean_std = np.sqrt(16) / 256\n",
        "print( mean_std )\n",
        "\n",
        "left=80-1.96*16/256**(1/2)\n",
        "right=80+1.96*16/256**(1/2)\n",
        "print(f'95%-й доверительный интервал для оценки мат. ожидания генеральной совокупности: [{left};{right}].')\n",
        "\n"
      ],
      "metadata": {
        "colab": {
          "base_uri": "https://localhost:8080/"
        },
        "id": "Q_AWgEFsUFjy",
        "outputId": "f7491433-ca7e-4950-c0aa-2db1c4c15b96"
      },
      "execution_count": null,
      "outputs": [
        {
          "output_type": "stream",
          "name": "stdout",
          "text": [
            "0.015625\n",
            "95%-й доверительный интервал для оценки мат. ожидания генеральной совокупности: [78.04;81.96].\n"
          ]
        }
      ]
    },
    {
      "cell_type": "markdown",
      "source": [
        "**Задача 6.2.**\n",
        "\n",
        "В результате 10 независимых измерений некоторой величины X, выполненных с\n",
        "одинаковой точностью,\n",
        "получены опытные данные:\n",
        "6.9, 6.1, 6.2, 6.8, 7.5, 6.3, 6.4, 6.9, 6.7, 6.1\n",
        "Предполагая, что результаты измерений подчинены нормальному закону распределения\n",
        "вероятностей,\n",
        "оценить истинное значение величины X при помощи доверительного интервала,\n",
        "покрывающего это\n",
        "значение с доверительной вероятностью 0,95."
      ],
      "metadata": {
        "id": "RG8eFFozUbRk"
      }
    },
    {
      "cell_type": "code",
      "source": [
        "import numpy as np\n",
        "import scipy.stats as stats\n",
        "\n",
        "#Для расчета 95%-го доверительного интервала будем использовать t-критерий\n",
        "\n",
        "arr=np.array([6.9, 6.1, 6.2, 6.8, 7.5, 6.3, 6.4, 6.9, 6.7, 6.1])\n",
        "print(f'Среднее выборочное: {np.mean(arr): .2f},\\n'\n",
        "      f'Размер выборки n={len(arr)},\\n'\n",
        "      f'СКО  по выборке(несмещенное): {np.std(arr, ddof=1): .2f}.'\n",
        "     )\n",
        "\n",
        "def t_from_table(confidens, len_array):\n",
        "    alpha=(1-confidens)\n",
        "    return stats.t.ppf(1-alpha/2, len_array-1)\n",
        "print(f'Таб. знач-е t-критерия для 95%-го доверит. интервала выборки: {t_from_table(0.95, len(arr)): .3f}')\n",
        "\n",
        "#расчета доверительного интервала:\n",
        "\n",
        "def confidens_int(arr, confidens):\n",
        "    return round(np.mean(arr)-t_from_table(confidens,len(arr))*np.std(arr, ddof=1)/len(arr)**0.5,3), \\\n",
        "           round(np.mean(arr)+t_from_table(confidens,len(arr))*np.std(arr, ddof=1)/len(arr)**0.5,3)\n",
        "\n",
        "print(f'95%-й доверит. интервал для истин. значения Х: {confidens_int(arr, 0.95)}.')"
      ],
      "metadata": {
        "colab": {
          "base_uri": "https://localhost:8080/"
        },
        "id": "32RC8ZtAUh26",
        "outputId": "eed33300-5351-4c52-c64f-010233a7f202"
      },
      "execution_count": null,
      "outputs": [
        {
          "output_type": "stream",
          "name": "stdout",
          "text": [
            "Среднее выборочное:  6.59,\n",
            "Размер выборки n=10,\n",
            "СКО  по выборке(несмещенное):  0.45.\n",
            "Таб. знач-е t-критерия для 95%-го доверит. интервала выборки:  2.262\n",
            "95%-й доверит. интервал для истин. значения Х: (6.268, 6.912).\n"
          ]
        }
      ]
    },
    {
      "cell_type": "markdown",
      "source": [
        "**Задача 6.3.**\n",
        "\n",
        "Рост дочерей 175, 167, 154, 174, 178, 148, 160, 167, 169, 170\n",
        "Рост матерей 178, 165, 165, 173, 168, 155, 160, 164, 178, 175\n",
        "Используя эти данные построить 95% доверительный интервал для разности среднего\n",
        "роста родителей и детей."
      ],
      "metadata": {
        "id": "6ZHxza5uU4jg"
      }
    },
    {
      "cell_type": "code",
      "source": [
        "import numpy as np\n",
        "\n",
        "a = np.array([178, 165, 165, 173, 168, 155, 160, 164, 178, 175])\n",
        "b = np.array([175, 167, 154, 174, 178, 148, 160, 167, 169, 170])\n",
        "\n",
        "\n",
        "len(a)\n",
        "10\n",
        "\n",
        "len(b)\n",
        "10\n",
        "\n",
        "x_1 = np.mean(a)\n",
        "print(\"Среднее арифметическое 2\" ,x_1)\n",
        "\n",
        "x_2 = np.mean(b)\n",
        "print(\"Среднее арифметическое 1\", x_2)\n",
        "\n",
        "delta = x_1 - x_2\n",
        "print(\"Разность средних\", delta)\n",
        "\n",
        "#Несмещенная дисперсия для выборки 1\n",
        "D1 = np.var (a,ddof =1)\n",
        "print(\"Несмещенная дисперия для выборки 1\", D1)\n",
        "\n",
        "#Несмещенная дисперсия для выборки 2\n",
        "D2 = np.var (b,ddof =2)\n",
        "print(\"Несмещенная дисперсия для выборки 2\", D2)\n",
        "\n",
        "#Оценка дисперсии\n",
        "D = (D1 + D2)/2\n",
        "print(\"Оценка дисперсии\", D)\n",
        "\n",
        "#Стандартная ошибка разности\n",
        "SE = np.sqrt(D/10 +D/10)\n",
        "print(\"Стандартная ошибка разности\", SE)\n",
        "\n",
        "import scipy.stats as stats\n",
        "t = stats.t.ppf(0.975, 18)\n",
        "print(\"Доверительный интервал для среднего\", t)\n",
        "\n",
        "#Находим нижнюю границу интервала\n",
        "L = delta - t*SE\n",
        "print(\"Находим нижнюю границу интервала\", L )\n",
        "\n",
        "#Находим верхнюю границу интервала\n",
        "U = delta + t*SE\n",
        "print(\"Находим нижнюю границу интервала\", U)"
      ],
      "metadata": {
        "colab": {
          "base_uri": "https://localhost:8080/"
        },
        "id": "FyT30n1uVIDr",
        "outputId": "eabdc719-77e4-4b4d-c88a-bb20ed18d599"
      },
      "execution_count": null,
      "outputs": [
        {
          "output_type": "stream",
          "name": "stdout",
          "text": [
            "Среднее арифметическое 2 168.1\n",
            "Среднее арифметическое 1 166.2\n",
            "Разность средних 1.9000000000000057\n",
            "Несмещенная дисперия для выборки 1 60.10000000000001\n",
            "Несмещенная дисперсия для выборки 2 102.45\n",
            "Оценка дисперсии 81.275\n",
            "Стандартная ошибка разности 4.031749000123892\n",
            "Доверительный интервал для среднего 2.10092204024096\n",
            "Находим нижнюю границу интервала -6.570390335079731\n",
            "Находим нижнюю границу интервала 10.370390335079742\n"
          ]
        }
      ]
    },
    {
      "cell_type": "markdown",
      "source": [
        "## Домашнее задание №7"
      ],
      "metadata": {
        "id": "1HriLBJRVpd9"
      }
    },
    {
      "cell_type": "code",
      "source": [],
      "metadata": {
        "id": "THSwPUm43nKk"
      },
      "execution_count": null,
      "outputs": []
    },
    {
      "cell_type": "markdown",
      "source": [
        "**Задача 7.1.**\n",
        "\n",
        "Даны две независимые выборки. Не соблюдается условие нормальности\n",
        "x1 380,420, 290\n",
        "y1 140,360,200,900\n",
        "Сделайте вывод по результатам, полученным с помощью функции, имеются ли статистические различия между группами?"
      ],
      "metadata": {
        "id": "RONXLmPrV7yF"
      }
    },
    {
      "cell_type": "code",
      "source": [
        "import numpy as np\n",
        "from scipy import stats\n",
        "\n",
        "x1 = np.array([380,420, 290])\n",
        "y1 = np.array([140,360,200,900])\n",
        "\n",
        "import numpy as np\n",
        "from scipy import stats\n",
        "\n",
        "x1 = np.array([380,420, 290])\n",
        "y1 = np.array([140,360,200,900])\n",
        "\n",
        "print(f\"{stats.mannwhitneyu(x1, y1)}\\np-value (0.63) > alpha (0.05) -> Нулевая гипотеза не отвергается,\\nнет статистических значений между группами\")"
      ],
      "metadata": {
        "colab": {
          "base_uri": "https://localhost:8080/"
        },
        "id": "2CAgEqcryYoW",
        "outputId": "5de3d1a8-0179-4a29-c20d-54cedf6dc30e"
      },
      "execution_count": null,
      "outputs": [
        {
          "output_type": "stream",
          "name": "stdout",
          "text": [
            "MannwhitneyuResult(statistic=8.0, pvalue=0.6285714285714286)\n",
            "p-value (0.63) > alpha (0.05) -> Нулевая гипотеза не отвергается,\n",
            "нет статистических значений между группами\n"
          ]
        }
      ]
    },
    {
      "cell_type": "markdown",
      "source": [
        "**Задача 7.2.**\n",
        "\n",
        "Исследовалось влияние препарата на уровень давления пациентов. Сначала\n",
        "измерялось давление до приема препарата, потом через 10 минут и через 30 минут. *Есть*\n",
        "ли статистически значимые различия между измерениями давления? В выборках не соблюдается условие нормальности.\n",
        "\n",
        "1е измерение до приема препарата: 150, 160, 165, 145, 155\n",
        "\n",
        "2е измерение через 10 минут: 140, 155, 150, 130, 135\n",
        "\n",
        "3е измерение через 30 минут: 130, 130, 120, 130, 125"
      ],
      "metadata": {
        "id": "gTqLaz9My7No"
      }
    },
    {
      "cell_type": "code",
      "source": [
        "import numpy as np\n",
        "from scipy import stats\n",
        "\n",
        "x = np.array([150, 160, 165, 145, 155])\n",
        "x10 = np.array([140, 155, 150, 130, 135])\n",
        "x30 = np.array([130, 130, 120, 130, 125])\n",
        "\n",
        "print(f\"{stats.friedmanchisquare(x, x10,x30)}\\np-value (0.008) < alpha (0.05) -> Нулевая гипотеза отвергается,\\nа значит есть статистические различия между измерениями давления\")"
      ],
      "metadata": {
        "colab": {
          "base_uri": "https://localhost:8080/"
        },
        "id": "GI7Z-5_8y_q_",
        "outputId": "cad0c1ef-0425-4669-d1c4-084fb80d4613"
      },
      "execution_count": null,
      "outputs": [
        {
          "output_type": "stream",
          "name": "stdout",
          "text": [
            "FriedmanchisquareResult(statistic=9.578947368421062, pvalue=0.00831683351100441)\n",
            "p-value (0.008) < alpha (0.05) -> Нулевая гипотеза отвергается,\n",
            "а значит есть статистические различия между измерениями давления\n"
          ]
        }
      ]
    },
    {
      "cell_type": "markdown",
      "source": [
        "**Задача 7.3.**\n",
        "\n",
        "Сравните 1 и 2 е измерения, предполагая, что 3го измерения через 30 минут не было. Есть\n",
        "ли статистически значимые различия между измерениями давления?"
      ],
      "metadata": {
        "id": "2YBG2Wzxzju1"
      }
    },
    {
      "cell_type": "code",
      "source": [
        "import numpy as np\n",
        "from scipy import stats\n",
        "\n",
        "x = np.array([150, 160, 165, 145, 155])\n",
        "x10 = np.array([140, 155, 150, 130, 135])\n",
        "\n",
        "print(f\"{stats.wilcoxon(x, x10)}\\np-value (0.06) > alpha (0.05) -> Нулевая гипотеза не отвергается,\\nзначит нет статистических различий между измерениями давления\")"
      ],
      "metadata": {
        "colab": {
          "base_uri": "https://localhost:8080/"
        },
        "id": "AWBJEziEzxDc",
        "outputId": "bb14ebca-8645-4cc1-ad36-406436e8d94f"
      },
      "execution_count": null,
      "outputs": [
        {
          "output_type": "stream",
          "name": "stdout",
          "text": [
            "WilcoxonResult(statistic=0.0, pvalue=0.0625)\n",
            "p-value (0.06) > alpha (0.05) -> Нулевая гипотеза не отвергается,\n",
            "значит нет статистических различий между измерениями давления\n"
          ]
        }
      ]
    },
    {
      "cell_type": "markdown",
      "source": [
        "**Задача 7.4.**\n",
        "\n",
        "Даны 3 группы учеников плавания. Не соблюдается условие нормальности.\n",
        "\n",
        "В 1 группе время на дистанцию 50 м составляют:\n",
        "56, 60, 62, 55, 71, 67, 59, 58, 64, 67\n",
        "\n",
        "Вторая группа : 57, 58, 69, 48, 72, 70, 68, 71, 50, 53\n",
        "\n",
        "Третья группа: 57, 67, 49, 48, 47, 55, 66, 51, 54\n",
        "\n",
        "Есть ли статистически значимые различия между группами?"
      ],
      "metadata": {
        "id": "BfwoIRbcz7YZ"
      }
    },
    {
      "cell_type": "code",
      "source": [
        "x1 = np.array([56, 60, 62, 55, 71, 67, 59, 58, 64, 67])\n",
        "x2 = np.array([57, 58, 69, 48, 72, 70, 68, 71, 50, 53])\n",
        "x3 = np.array([57, 67, 49, 48, 47, 55, 66, 51, 54])\n",
        "stats.kruskal(x1, x2, x3)"
      ],
      "metadata": {
        "colab": {
          "base_uri": "https://localhost:8080/"
        },
        "id": "0UVkskEJ0KiL",
        "outputId": "751128ca-2f17-41db-9060-8b1d9bcc9f67"
      },
      "execution_count": null,
      "outputs": [
        {
          "output_type": "execute_result",
          "data": {
            "text/plain": [
              "KruskalResult(statistic=5.465564058257224, pvalue=0.0650380998590494)"
            ]
          },
          "metadata": {},
          "execution_count": 14
        }
      ]
    },
    {
      "cell_type": "markdown",
      "source": [
        "**Задача 7.5.**\n",
        "\n",
        "Заявляется, что партия изготавливается со средним арифметическим 2,5 см. Проверить данную гипотезу, если известно, что размеры изделий подчинены нормальному закону распределения.\n",
        "Объем выборки 10, уровень статистической значимости 5%\n",
        "2.51, 2.35, 2.74, 2.56, 2.40, 2.36, 2.65, 2.7, 2.67, 2.34"
      ],
      "metadata": {
        "id": "F5DT2G2F0cOM"
      }
    },
    {
      "cell_type": "code",
      "source": [
        "x = np.array([2.51, 2.35, 2.74, 2.56, 2.40, 2.36, 2.65, 2.7, 2.67, 2.34])\n",
        "avg = np.mean(x)\n",
        "avg"
      ],
      "metadata": {
        "colab": {
          "base_uri": "https://localhost:8080/"
        },
        "id": "Q3YgRWnJ0lCw",
        "outputId": "38d5ff3c-ea11-4b0f-bd46-7520898f9ba2"
      },
      "execution_count": null,
      "outputs": [
        {
          "output_type": "execute_result",
          "data": {
            "text/plain": [
              "2.5279999999999996"
            ]
          },
          "metadata": {},
          "execution_count": 27
        }
      ]
    },
    {
      "cell_type": "code",
      "source": [
        "len(x)"
      ],
      "metadata": {
        "colab": {
          "base_uri": "https://localhost:8080/"
        },
        "id": "FlTxBMkl1ikQ",
        "outputId": "76d615d5-2f19-4e72-f48f-58f8aa57a4bf"
      },
      "execution_count": null,
      "outputs": [
        {
          "output_type": "execute_result",
          "data": {
            "text/plain": [
              "10"
            ]
          },
          "metadata": {},
          "execution_count": 23
        }
      ]
    },
    {
      "cell_type": "code",
      "source": [
        "np.std(x, ddof=1)"
      ],
      "metadata": {
        "colab": {
          "base_uri": "https://localhost:8080/"
        },
        "id": "Yon9qDiD1j1A",
        "outputId": "a5054ce6-7027-4c56-e66c-30fa146992e6"
      },
      "execution_count": null,
      "outputs": [
        {
          "output_type": "execute_result",
          "data": {
            "text/plain": [
              "0.1572542173961923"
            ]
          },
          "metadata": {},
          "execution_count": 24
        }
      ]
    },
    {
      "cell_type": "code",
      "source": [
        "t = (2.52 - 2.5)/(0.157/np.sqrt(10))\n",
        "t"
      ],
      "metadata": {
        "colab": {
          "base_uri": "https://localhost:8080/"
        },
        "id": "BDtJaYXc1weg",
        "outputId": "8b2180be-5afc-42b1-ff06-c828f4c04d6c"
      },
      "execution_count": null,
      "outputs": [
        {
          "output_type": "execute_result",
          "data": {
            "text/plain": [
              "0.4028379184927876"
            ]
          },
          "metadata": {},
          "execution_count": 25
        }
      ]
    },
    {
      "cell_type": "code",
      "source": [
        "from scipy import stats\n",
        "stats.ttest_1samp(x,2.5)"
      ],
      "metadata": {
        "colab": {
          "base_uri": "https://localhost:8080/"
        },
        "id": "f1gGcdLc1-kO",
        "outputId": "f32c48e5-dcbc-4c1d-d241-d3f68410aab1"
      },
      "execution_count": null,
      "outputs": [
        {
          "output_type": "execute_result",
          "data": {
            "text/plain": [
              "TtestResult(statistic=0.5630613661802959, pvalue=0.5871439993940628, df=9)"
            ]
          },
          "metadata": {},
          "execution_count": 26
        }
      ]
    },
    {
      "cell_type": "markdown",
      "source": [
        "Ответ: табличное t = 2.262, рассчётное t = 0.56. Соответственно, принимаем нулевую гипотезу."
      ],
      "metadata": {
        "id": "_J_CC5In2QJO"
      }
    },
    {
      "cell_type": "markdown",
      "source": [
        "## Домашнее задание №8"
      ],
      "metadata": {
        "id": "6xu6DRCm3ps0"
      }
    },
    {
      "cell_type": "markdown",
      "source": [
        "**Задача 8.1**\n",
        "\n",
        "Даны значения величины заработной платы заемщиков банка (zp) и значения их\n",
        "поведенческого кредитного скоринга (ks):\n",
        "zp = [35, 45, 190, 200, 40, 70, 54, 150, 120, 110],\n",
        "ks = [401, 574, 874, 919, 459, 739, 653, 902, 746, 832].\n",
        "\n",
        "Найдите ковариацию этих двух величин с помощью элементарных действий, а затем с\n",
        "помощью функции cov из numpy\n",
        "Полученные значения должны быть равны.\n",
        "\n",
        "Найдите коэффициент корреляции Пирсона с помощью ковариации и\n",
        "среднеквадратичных отклонений двух признаков,\n",
        "а затем с использованием функций из библиотек numpy и pandas."
      ],
      "metadata": {
        "id": "cwmUDg9G37Us"
      }
    },
    {
      "cell_type": "code",
      "source": [
        "zp = np.array([35, 45, 190, 200, 40, 70, 54, 150, 120, 110])\n",
        "ks = np.array([401, 574, 874, 919, 459, 739, 653, 902, 746, 832])\n",
        "cov_coef = np.mean(zp*ks) - np.mean(zp)*np.mean(ks)\n",
        "cov_coef"
      ],
      "metadata": {
        "colab": {
          "base_uri": "https://localhost:8080/"
        },
        "id": "-CZcRqXN4Ps5",
        "outputId": "d5badc7e-e713-4aeb-e6d8-247ac880f2ef"
      },
      "execution_count": null,
      "outputs": [
        {
          "output_type": "execute_result",
          "data": {
            "text/plain": [
              "9157.839999999997"
            ]
          },
          "metadata": {},
          "execution_count": 29
        }
      ]
    },
    {
      "cell_type": "code",
      "source": [
        "np.cov(zp,ks, ddof=0)"
      ],
      "metadata": {
        "colab": {
          "base_uri": "https://localhost:8080/"
        },
        "id": "CxSWCc4F4WnV",
        "outputId": "c438a4b8-577d-46ef-bf9e-adfb7d810523"
      },
      "execution_count": null,
      "outputs": [
        {
          "output_type": "execute_result",
          "data": {
            "text/plain": [
              "array([[ 3494.64,  9157.84],\n",
              "       [ 9157.84, 30468.89]])"
            ]
          },
          "metadata": {},
          "execution_count": 30
        }
      ]
    },
    {
      "cell_type": "code",
      "source": [
        "r = cov_coef/(np.std(zp)*np.std(ks))\n",
        "r"
      ],
      "metadata": {
        "colab": {
          "base_uri": "https://localhost:8080/"
        },
        "id": "vHL1iKxL4hQT",
        "outputId": "1cb5167e-1543-42d7-959d-f51fafdc8386"
      },
      "execution_count": null,
      "outputs": [
        {
          "output_type": "execute_result",
          "data": {
            "text/plain": [
              "0.8874900920739158"
            ]
          },
          "metadata": {},
          "execution_count": 31
        }
      ]
    },
    {
      "cell_type": "code",
      "source": [
        "np.corrcoef(zp,ks)"
      ],
      "metadata": {
        "colab": {
          "base_uri": "https://localhost:8080/"
        },
        "id": "Qk5huvD_4iKY",
        "outputId": "955cf703-845f-4de2-d5be-dbf915036219"
      },
      "execution_count": null,
      "outputs": [
        {
          "output_type": "execute_result",
          "data": {
            "text/plain": [
              "array([[1.        , 0.88749009],\n",
              "       [0.88749009, 1.        ]])"
            ]
          },
          "metadata": {},
          "execution_count": 32
        }
      ]
    },
    {
      "cell_type": "markdown",
      "source": [
        "**Задача 8.2**\n",
        "\n",
        "Измерены значения IQ выборки студентов,\n",
        "обучающихся в местных технических вузах:\n",
        "131, 125, 115, 122, 131, 115, 107, 99, 125, 111.\n",
        "Известно, что в генеральной совокупности IQ распределен нормально.\n",
        "\n",
        "Найдите доверительный интервал для математического ожидания с надежностью 0.95."
      ],
      "metadata": {
        "id": "WHxrZDZ_4pQ0"
      }
    },
    {
      "cell_type": "code",
      "source": [
        "iq = np.array([131, 125, 115, 122, 131, 115, 107, 99, 125, 111])\n",
        "alfa = 0.05\n",
        "t = stats.t.ppf (0.975,9)"
      ],
      "metadata": {
        "id": "Mdg5J9WL42AK"
      },
      "execution_count": null,
      "outputs": []
    },
    {
      "cell_type": "markdown",
      "source": [
        "Так как нам неизвестно среднее квадратичное отклонение генеральной совокупности, то доверительный интервал будем строить по критерию Стьюдента.\n",
        "\n"
      ],
      "metadata": {
        "id": "g8jIH8ow5EUk"
      }
    },
    {
      "cell_type": "code",
      "source": [
        "x_0 = np.mean(iq) - t*np.std(iq, ddof=1)/np.sqrt(len(iq))\n",
        "x_0"
      ],
      "metadata": {
        "colab": {
          "base_uri": "https://localhost:8080/"
        },
        "id": "4qImT3RA5KVw",
        "outputId": "f52140f1-05b3-4403-85f8-35e8e05384ad"
      },
      "execution_count": null,
      "outputs": [
        {
          "output_type": "execute_result",
          "data": {
            "text/plain": [
              "110.55608365158724"
            ]
          },
          "metadata": {},
          "execution_count": 36
        }
      ]
    },
    {
      "cell_type": "code",
      "source": [
        "x_1 = np.mean(iq) + t*np.std(iq, ddof=1)/np.sqrt(len(iq))\n",
        "x_1"
      ],
      "metadata": {
        "colab": {
          "base_uri": "https://localhost:8080/"
        },
        "id": "OOLDqqdl5QRf",
        "outputId": "70a476ec-dd5b-4877-f7a5-211d17b2bee0"
      },
      "execution_count": null,
      "outputs": [
        {
          "output_type": "execute_result",
          "data": {
            "text/plain": [
              "125.64391634841274"
            ]
          },
          "metadata": {},
          "execution_count": 37
        }
      ]
    },
    {
      "cell_type": "markdown",
      "source": [
        "Ответ: Доверительный интервал [110.56; 125.64]"
      ],
      "metadata": {
        "id": "iGDGRfWf5TPy"
      }
    },
    {
      "cell_type": "markdown",
      "source": [
        "**Задача 8.3**\n",
        "\n",
        "Известно, что рост футболистов в сборной распределен нормально\n",
        "с дисперсией генеральной совокупности, равной 25 кв.см.\n",
        "\n",
        "Объем выборки равен 27,\n",
        "среднее выборочное составляет 174.2. Найдите доверительный интервал для\n",
        "математического ожидания с надежностью 0.95."
      ],
      "metadata": {
        "id": "aZpa6Xha5j3W"
      }
    },
    {
      "cell_type": "code",
      "source": [
        "sigma = 5\n",
        "n = 27\n",
        "avg = 174.2\n",
        "alpha = 0.05"
      ],
      "metadata": {
        "id": "bzLDfMrN52OG"
      },
      "execution_count": null,
      "outputs": []
    },
    {
      "cell_type": "code",
      "source": [
        "x_0 = avg - 1.96*sigma/np.sqrt(n)\n",
        "x_0"
      ],
      "metadata": {
        "colab": {
          "base_uri": "https://localhost:8080/"
        },
        "id": "qRYOqRD15_lD",
        "outputId": "88e7265c-c485-477c-fa73-121fbf4c61ea"
      },
      "execution_count": null,
      "outputs": [
        {
          "output_type": "execute_result",
          "data": {
            "text/plain": [
              "172.31398912064722"
            ]
          },
          "metadata": {},
          "execution_count": 42
        }
      ]
    },
    {
      "cell_type": "code",
      "source": [
        "x_1 = avg + 1.96*sigma/np.sqrt(n)\n",
        "x_1"
      ],
      "metadata": {
        "colab": {
          "base_uri": "https://localhost:8080/"
        },
        "id": "be_RBJdT5_t4",
        "outputId": "c9c71dfc-fd49-456c-b058-311c0702d9c4"
      },
      "execution_count": null,
      "outputs": [
        {
          "output_type": "execute_result",
          "data": {
            "text/plain": [
              "176.08601087935276"
            ]
          },
          "metadata": {},
          "execution_count": 43
        }
      ]
    },
    {
      "cell_type": "markdown",
      "source": [
        "Ответ: Доверительный интервал [172.31; 176.09]"
      ],
      "metadata": {
        "id": "_TYeRd7k6DSh"
      }
    },
    {
      "cell_type": "markdown",
      "source": [
        "## Домашнее задание №9"
      ],
      "metadata": {
        "id": "OhES0C7K6jQ7"
      }
    },
    {
      "cell_type": "markdown",
      "source": [
        "**Задача 9.1**\n",
        "\n",
        "Даны значения величины заработной платы заемщиков банка (zp) и значения их поведенческого кредитного скоринга (ks): zp = [35, 45, 190, 200, 40, 70, 54, 150, 120, 110], ks = [401, 574, 874, 919, 459, 739, 653, 902, 746, 832]. Используя математические операции, посчитать коэффициенты линейной регрессии, приняв за X заработную плату (то есть, zp - признак), а за y - значения скорингового балла (то есть, ks - целевая переменная). Произвести расчет как с использованием intercept, так и без."
      ],
      "metadata": {
        "id": "Ftg-3Pdw60dd"
      }
    },
    {
      "cell_type": "code",
      "source": [
        "import numpy as np\n",
        "import matplotlib.pyplot as plt\n",
        "from sklearn.linear_model import LinearRegression\n",
        "import scipy.stats as stats\n",
        "\n",
        "\n",
        "zp = np.array([35, 45, 190, 200, 40, 70, 54, 150, 120, 110])\n",
        "ks = np.array([401, 574, 874, 919, 459, 739, 653, 902, 746, 832])\n",
        "n = len(zp)\n",
        "\n",
        "x = np.array(zp)\n",
        "y = np.array(ks)\n"
      ],
      "metadata": {
        "id": "jnrTMzo17gny"
      },
      "execution_count": null,
      "outputs": []
    },
    {
      "cell_type": "code",
      "source": [
        "# отобразим исходные точки на графике\n",
        "plt.scatter(x,y)"
      ],
      "metadata": {
        "colab": {
          "base_uri": "https://localhost:8080/",
          "height": 447
        },
        "id": "ifhy-RRZ74Tu",
        "outputId": "c895c1e7-4a8c-46a3-b808-22f4fc2540c0"
      },
      "execution_count": null,
      "outputs": [
        {
          "output_type": "execute_result",
          "data": {
            "text/plain": [
              "<matplotlib.collections.PathCollection at 0x7c1f59950fd0>"
            ]
          },
          "metadata": {},
          "execution_count": 56
        },
        {
          "output_type": "display_data",
          "data": {
            "text/plain": [
              "<Figure size 640x480 with 1 Axes>"
            ],
            "image/png": "[encoded data removed]"
          },
          "metadata": {}
        }
      ]
    },
    {
      "cell_type": "code",
      "source": [
        "# y = a + bx, математическим методом\n",
        "\n",
        "b=(n * sum(x*y) - sum(x)*sum(y)) / (n * sum(x**2) - sum(x)**2)\n",
        "a=np.mean(y) - b*np.mean(x)\n",
        "plt.plot(x, b * x + a, 'purple')\n",
        "print(f'Решение математическим методом\\n\\\n",
        "y = a + x*b: coef (b)={b}, intercept (a)={a}\\n')"
      ],
      "metadata": {
        "colab": {
          "base_uri": "https://localhost:8080/",
          "height": 481
        },
        "id": "1LG9tDL48p_s",
        "outputId": "8262173a-eb9e-4d2d-a87e-e9f220a0f24c"
      },
      "execution_count": null,
      "outputs": [
        {
          "output_type": "stream",
          "name": "stdout",
          "text": [
            "Решение математическим методом\n",
            "y = a + x*b: coef (b)=2.6205388824027653, intercept (a)=444.17735732435955\n",
            "\n"
          ]
        },
        {
          "output_type": "display_data",
          "data": {
            "text/plain": [
              "<Figure size 640x480 with 1 Axes>"
            ],
            "image/png": "[encoded data removed]"
          },
          "metadata": {}
        }
      ]
    },
    {
      "cell_type": "code",
      "source": [],
      "metadata": {
        "id": "eZcv7qFfASA6"
      },
      "execution_count": null,
      "outputs": []
    },
    {
      "cell_type": "code",
      "source": [
        "# поиск решения матричным методом\n",
        "Y=y.reshape(-1, 1)\n",
        "X2=x.reshape(-1, 1)\n",
        "X1=np.hstack([np.ones((n,1)),X2])\n",
        "# с интерсептом\n",
        "B1=np.linalg.inv( np.transpose(X1).dot(X1) ).dot(np.transpose(X1)).dot(Y)\n",
        "b0_1 = B1[0][0]\n",
        "b1_1 = B1[1][0]\n",
        "# без интерсепта\n",
        "B2=np.linalg.inv( np.transpose(X2).dot(X2) ).dot(np.transpose(X2)).dot(Y)\n",
        "b1_2 = B2[0][0]"
      ],
      "metadata": {
        "id": "29kH4Ij-9-vL"
      },
      "execution_count": null,
      "outputs": []
    },
    {
      "cell_type": "code",
      "source": [
        "# показать результат\n",
        "plt.scatter(x,y)\n",
        "plt.plot(x, b1_1 * x + b0_1, 'orange')\n",
        "plt.plot(x, b1_2 * x, 'pink')\n",
        "print(f'Решение матричным методом\\n\\\n",
        "С интерсептом: coef={b1_1}, intercept={b0_1}\\n\\\n",
        "Без интерсепта: coef={b1_2}, intercept={0}\\n')\n",
        "plt.title('Решение матричным методом с интерсептом и без')\n",
        "plt.show()"
      ],
      "metadata": {
        "colab": {
          "base_uri": "https://localhost:8080/",
          "height": 520
        },
        "id": "D9bRvOw2-8Pp",
        "outputId": "0f9d150c-8be2-4808-992b-145338988663"
      },
      "execution_count": null,
      "outputs": [
        {
          "output_type": "stream",
          "name": "stdout",
          "text": [
            "Решение матричным методом\n",
            "С интерсептом: coef=2.6205388824027636, intercept=444.1773573243596\n",
            "Без интерсепта: coef=5.889820420132689, intercept=0\n",
            "\n"
          ]
        },
        {
          "output_type": "display_data",
          "data": {
            "text/plain": [
              "<Figure size 640x480 with 1 Axes>"
            ],
            "image/png": "[encoded data removed]"
          },
          "metadata": {}
        }
      ]
    },
    {
      "cell_type": "markdown",
      "source": [
        "**Задача 9.2**\n",
        "\n",
        "Посчитать коэффициент линейной регрессии при заработной плате (zp), используя градиентный спуск (без intercept). (можно использовать библиотеки питона, вместо градиентого спуска)"
      ],
      "metadata": {
        "id": "1I087PWw_iJa"
      }
    },
    {
      "cell_type": "code",
      "source": [
        "import numpy as np\n",
        "import matplotlib.pyplot as plt\n",
        "from sklearn.linear_model import LinearRegression\n",
        "import scipy.stats as stats\n",
        "\n",
        "# списки\n",
        "zp = [35, 45, 190, 200, 40, 70, 54, 150, 120, 110]\n",
        "ks = [401, 574, 874, 919, 459, 739, 653, 902, 746, 832]\n",
        "x = np.array(zp)\n",
        "y = np.array(ks)\n",
        "\n",
        "# длина списка\n",
        "n=len(x)\n",
        "\n",
        "# поиск b1 (y = b1*x) методом градиентного спуска\n",
        "# задать точность поиска\n",
        "precition = 1e-5\n",
        "# задать стартовую точку\n",
        "b1 = 100.0001\n",
        "# сохраняем предыдущее значение для досрочного выхода из цикла\n",
        "b1_=b1\n",
        "\n",
        "for i in range(1000):\n",
        "    b1 -= precition * (2/n)*np.sum((b1*x - y) * x)\n",
        "    if abs(b1 - b1_) < precition:\n",
        "        break\n",
        "    b1_=b1\n",
        "    print(f'Итерация: {i}, значение b1:{b1}')\n",
        "\n",
        "print(f'Решение 2. y = b1*x\\n\\\n",
        "Без интерсепта: coef (b1)={b1}')\n",
        "# отобразим исходные точки на графике\n",
        "plt.scatter(x,y)\n",
        "plt.plot(x, b1*x, 'r')\n",
        "plt.title('9.2. Поиск решения без интерсепта градиентным спуском')\n",
        "plt.show()"
      ],
      "metadata": {
        "colab": {
          "base_uri": "https://localhost:8080/",
          "height": 1000
        },
        "id": "ATyB7o5gATvT",
        "outputId": "18a44ebd-9e77-47ba-e734-c4cef6dc01c2"
      },
      "execution_count": 2,
      "outputs": [
        {
          "output_type": "stream",
          "name": "stdout",
          "text": [
            "Итерация: 0, значение b1:74.0697064468\n",
            "Итерация: 1, значение b1:55.28396609010029\n",
            "Итерация: 2, значение b1:41.67429834536277\n",
            "Итерация: 3, значение b1:31.814529573668274\n",
            "Итерация: 4, значение b1:24.671442611176307\n",
            "Итерация: 5, значение b1:19.496504685633674\n",
            "Итерация: 6, значение b1:15.747427756591657\n",
            "Итерация: 7, значение b1:13.031341491962444\n",
            "Итерация: 8, значение b1:11.063623907999046\n",
            "Итерация: 9, значение b1:9.638075485380252\n",
            "Итерация: 10, значение b1:8.60531127074246\n",
            "Итерация: 11, значение b1:7.857106645692248\n",
            "Итерация: 12, значение b1:7.315056337391372\n",
            "Итерация: 13, значение b1:6.922358234637253\n",
            "Итерация: 14, значение b1:6.637861025531182\n",
            "Итерация: 15, значение b1:6.431751901444524\n",
            "Итерация: 16, значение b1:6.282432436535712\n",
            "Итерация: 17, значение b1:6.174255262432154\n",
            "Итерация: 18, значение b1:6.095884361463698\n",
            "Итерация: 19, значение b1:6.0391071515808825\n",
            "Итерация: 20, значение b1:5.997973879891499\n",
            "Итерация: 21, значение b1:5.968174140817235\n",
            "Итерация: 22, значение b1:5.946585183449581\n",
            "Итерация: 23, значение b1:5.930944674683351\n",
            "Итерация: 24, значение b1:5.919613626578498\n",
            "Итерация: 25, значение b1:5.911404644820071\n",
            "Итерация: 26, значение b1:5.905457500223507\n",
            "Итерация: 27, значение b1:5.901148984271924\n",
            "Итерация: 28, значение b1:5.898027602337512\n",
            "Итерация: 29, значение b1:5.895766261010253\n",
            "Итерация: 30, значение b1:5.894127991581576\n",
            "Итерация: 31, значение b1:5.892941117805122\n",
            "Итерация: 32, значение b1:5.892081265734041\n",
            "Итерация: 33, значение b1:5.891458330423809\n",
            "Итерация: 34, значение b1:5.891007033725476\n",
            "Итерация: 35, значение b1:5.890680083709028\n",
            "Итерация: 36, значение b1:5.890443218884512\n",
            "Итерация: 37, значение b1:5.890271617898825\n",
            "Итерация: 38, значение b1:5.8901472984759256\n",
            "Итерация: 39, значение b1:5.890057233032257\n",
            "Итерация: 40, значение b1:5.889991983500413\n",
            "Итерация: 41, значение b1:5.889944712302577\n",
            "Итерация: 42, значение b1:5.889910465832423\n",
            "Итерация: 43, значение b1:5.8898856553606835\n",
            "Итерация: 44, значение b1:5.889867680967844\n",
            "Итерация: 45, значение b1:5.889854659095412\n",
            "Решение 2. y = b1*x\n",
            "Без интерсепта: coef (b1)=5.889845225165534\n"
          ]
        },
        {
          "output_type": "display_data",
          "data": {
            "text/plain": [
              "<Figure size 640x480 with 1 Axes>"
            ],
            "image/png": "[encoded data removed]"
          },
          "metadata": {}
        }
      ]
    },
    {
      "cell_type": "markdown",
      "source": [
        "**Задача 9.3**\n",
        "\n",
        "Произвести вычисления как в пункте 2, но с вычислением intercept. Учесть, что изменение коэффициентов должно производиться на каждом шаге одновременно (то есть изменение одного коэффициента не должно влиять на изменение другого во время одной итерации)."
      ],
      "metadata": {
        "id": "qVqCKmjZAgpJ"
      }
    },
    {
      "cell_type": "code",
      "source": [
        "import numpy as np\n",
        "import matplotlib.pyplot as plt\n",
        "from sklearn.linear_model import LinearRegression\n",
        "import scipy.stats as stats\n",
        "\n",
        "# списки\n",
        "zp = [35, 45, 190, 200, 40, 70, 54, 150, 120, 110]\n",
        "ks = [401, 574, 874, 919, 459, 739, 653, 902, 746, 832]\n",
        "x = np.array(zp)\n",
        "y = np.array(ks)\n",
        "\n",
        "# длина списка\n",
        "n=len(x)\n",
        "\n",
        "# поиск b1 и b0 (y = b0 + b1*x) методом градиентного спуска\n",
        "# задать точность поиска\n",
        "precition1 = 1e-7\n",
        "precition0 = 1e-3\n",
        "# задать стартовую точку\n",
        "b1 = 0\n",
        "b0 = 0\n",
        "# сохраняем предыдущее значение для досрочного выхода из цикла\n",
        "b1_=b1\n",
        "b0_=b0\n",
        "\n",
        "for i in range(100000):\n",
        "    b1 -= precition1 * (2/n)*np.sum(((b1*x + b0) - y) * x)\n",
        "    b0 -= precition0 * (2/n)*np.sum(((b1*x + b0) - y) * 1)\n",
        "    if (abs(b1 - b1_) < precition1) and (abs(b0 - b0_) < precition0):\n",
        "        break\n",
        "    b1_=b1\n",
        "    b0_=b0\n",
        " #   mse_=mse(b1, b0, y, x, n)\n",
        "    if i%100 == 0:\n",
        "        print(f'Итерация {i}: b1={b1}, b0={b0}')\n",
        "\n",
        "print(f'Решение 3. y = b0 + b1*x\\n\\\n",
        "С интерсепом: coef (b1)={b1}, interceipt (b0)={b0}')\n",
        "# отобразим исходные точки на графике\n",
        "plt.scatter(x,y)\n",
        "plt.plot(x, b1*x + b0, 'r')\n",
        "plt.title('9.3. Поиск решения с интерсептом градиентным спуском')\n",
        "plt.show()"
      ],
      "metadata": {
        "colab": {
          "base_uri": "https://localhost:8080/",
          "height": 1000
        },
        "id": "1Qh4W-otAr5c",
        "outputId": "b8e51e3e-f06f-432f-e00c-a24408d8f33b"
      },
      "execution_count": 3,
      "outputs": [
        {
          "output_type": "stream",
          "name": "stdout",
          "text": [
            "Итерация 0: b1=0.01622834, b0=1.416508892648\n",
            "Итерация 100: b1=1.3171191774705375, b0=116.27255568755255\n",
            "Итерация 200: b1=2.1397380394444245, b0=191.2716809961726\n",
            "Итерация 300: b1=2.6560973968649426, b0=240.67681237528132\n",
            "Итерация 400: b1=2.9764605526974464, b0=273.63298305686806\n",
            "Итерация 500: b1=3.171504819434105, b0=296.00419141575003\n",
            "Итерация 600: b1=3.286529940530217, b0=311.5509812523228\n",
            "Итерация 700: b1=3.3505668548486325, b0=322.68536948816273\n",
            "Итерация 800: b1=3.382217159021288, b0=330.95481851825105\n",
            "Итерация 900: b1=3.393396676773822, b0=337.3525037152598\n",
            "Итерация 1000: b1=3.391735387564097, b0=342.5162217072631\n",
            "Итерация 1100: b1=3.3821159705711383, b0=346.85590813569377\n",
            "Итерация 1200: b1=3.3676601300773106, b0=350.6353881452156\n",
            "Итерация 1300: b1=3.350360903268348, b0=354.024786232567\n",
            "Итерация 1400: b1=3.331488013711365, b0=357.1341262834976\n",
            "Итерация 1500: b1=3.3118477285736856, b0=360.03487293222895\n",
            "Итерация 1600: b1=3.291949440937835, b0=362.7737422805726\n",
            "Итерация 1700: b1=3.27211245541799, b0=365.38155660780376\n",
            "Итерация 1800: b1=3.2525344393721625, b0=367.87892184045177\n",
            "Итерация 1900: b1=3.233335298810715, b0=370.27986812120344\n",
            "Итерация 2000: b1=3.2145852997170707, b0=372.59418452959073\n",
            "Итерация 2100: b1=3.196323089583159, b0=374.8289166205726\n",
            "Итерация 2200: b1=3.178567244349695, b0=376.9893272355813\n",
            "Итерация 2300: b1=3.161323664792043, b0=379.079513203043\n",
            "Итерация 2400: b1=3.144590312248114, b0=381.1028014125714\n",
            "Итерация 2500: b1=3.1283602388293414, b0=383.06200342713396\n",
            "Итерация 2600: b1=3.112623524433468, b0=384.95957938476107\n",
            "Итерация 2700: b1=3.09736851310067, b0=386.797743726423\n",
            "Итерация 2800: b1=3.0825826003591312, b0=388.57853360939316\n",
            "Итерация 2900: b1=3.0682527328809344, b0=390.30385337928163\n",
            "Итерация 3000: b1=3.0543657238631834, b0=391.97550367466044\n",
            "Итерация 3100: b1=3.0409084504270054, b0=393.595200661469\n",
            "Итерация 3200: b1=3.0278679755287277, b0=395.16458892192367\n",
            "Итерация 3300: b1=3.0152316216209964, b0=396.6852502581258\n",
            "Итерация 3400: b1=3.0029870135210515, b0=398.15870985987505\n",
            "Итерация 3500: b1=2.9911221016733323, b0=399.58644076646516\n",
            "Итерация 3600: b1=2.9796251729741163, b0=400.9698672190312\n",
            "Итерация 3700: b1=2.968484853749273, b0=402.31036728638037\n",
            "Итерация 3800: b1=2.9576901078243845, b0=403.60927501028453\n",
            "Итерация 3900: b1=2.9472302315678047, b0=404.86788222836833\n",
            "Итерация 4000: b1=2.937094847108494, b0=406.08744017642897\n",
            "Итерация 4100: b1=2.927273894495586, b0=407.26916093589716\n",
            "Итерация 4200: b1=2.917757623287826, b0=408.4142187689834\n",
            "Итерация 4300: b1=2.9085365838825505, b0=409.52375136918414\n",
            "Итерация 4400: b1=2.8996016187794047, b0=410.5988610452926\n",
            "Итерация 4500: b1=2.8909438539007897, b0=411.6406158509107\n",
            "Итерация 4600: b1=2.8825546900442056, b0=412.6500506675368\n",
            "Итерация 4700: b1=2.8744257945117346, b0=413.6281682467485\n",
            "Итерация 4800: b1=2.8665490929427073, b0=414.5759402153746\n",
            "Итерация 4900: b1=2.8589167613636057, b0=415.49430804648324\n",
            "Итерация 5000: b1=2.8515212184613747, b0=416.384183998319\n",
            "Итерация 5100: b1=2.844355118081589, b0=417.2464520228791\n",
            "Итерация 5200: b1=2.83741134194982, b0=418.0819686455134\n",
            "Итерация 5300: b1=2.830682992612703, b0=418.89156381672296\n",
            "Итерация 5400: b1=2.8241633865940905, b0=419.6760417372128\n",
            "Итерация 5500: b1=2.8178460477610088, b0=420.43618165713656\n",
            "Итерация 5600: b1=2.811724700893827, b0=421.17273865041216\n",
            "Итерация 5700: b1=2.805793265454876, b0=421.88644436492876\n",
            "Итерация 5800: b1=2.8000458495497362, b0=422.5780077494248\n",
            "Итерация 5900: b1=2.794476744075427, b0=423.24811575778017\n",
            "Итерация 6000: b1=2.7890804170499033, b0=423.89743403143393\n",
            "Итерация 6100: b1=2.7838515081172783, b0=424.5266075606173\n",
            "Итерация 6200: b1=2.7787848232234196, b0=425.1362613250635\n",
            "Итерация 6300: b1=2.773875329456654, b0=425.7270009148313\n",
            "Итерация 6400: b1=2.7691181500484974, b0=426.2994131318676\n",
            "Итерация 6500: b1=2.7645085595294425, b0=426.8540665729019\n",
            "Итерация 6600: b1=2.7600419790350283, b0=427.3915121942565\n",
            "Итерация 6700: b1=2.755713971757524, b0=427.9122838591315\n",
            "Итерация 6800: b1=2.7515202385387045, b0=428.41689886791124\n",
            "Итерация 6900: b1=2.7474566135993643, b0=428.90585847201726\n",
            "Итерация 7000: b1=2.743519060401308, b0=429.37964837181863\n",
            "Итерация 7100: b1=2.739703667637723, b0=429.8387391990959\n",
            "Итерация 7200: b1=2.7360066453479477, b0=430.2835869845362\n",
            "Итерация 7300: b1=2.732424321152774, b0=430.7146336107231\n",
            "Итерация 7400: b1=2.728953136606553, b0=431.1323072510748\n",
            "Итерация 7500: b1=2.7255896436624583, b0=431.53702279516324\n",
            "Итерация 7600: b1=2.7223305012474306, b0=431.92918226083793\n",
            "Итерация 7700: b1=2.719172471943379, b0=432.3091751935647\n",
            "Итерация 7800: b1=2.716112418771333, b0=432.6773790533751\n",
            "Итерация 7900: b1=2.7131473020753867, b0=433.0341595898078\n",
            "Итерация 8000: b1=2.7102741765032854, b0=433.3798712052236\n",
            "Итерация 8100: b1=2.7074901880807234, b0=433.7148573068438\n",
            "Итерация 8200: b1=2.704792571376388, b0=434.0394506478674\n",
            "Итерация 8300: b1=2.7021786467549567, b0=434.35397365800833\n",
            "Итерация 8400: b1=2.6996458177153304, b0=434.6587387637746\n",
            "Итерация 8500: b1=2.697191568311434, b0=434.95404869881287\n",
            "Итерация 8600: b1=2.6948134606530463, b0=435.24019680462357\n",
            "Итерация 8700: b1=2.6925091324841555, b0=435.5174673219483\n",
            "Итерация 8800: b1=2.69027629483645, b0=435.7861356731145\n",
            "Итерация 8900: b1=2.6881127297556073, b0=436.04646873562206\n",
            "Итерация 9000: b1=2.68601628809813, b0=436.2987251072438\n",
            "Итерация 9100: b1=2.683984887396516, b0=436.5431553628967\n",
            "Итерация 9200: b1=2.682016509790682, b0=436.7800023035488\n",
            "Итерация 9300: b1=2.680109200023547, b0=437.0095011974004\n",
            "Итерация 9400: b1=2.6782610634988164, b0=437.2318800135853\n",
            "Итерация 9500: b1=2.6764702643990037, b0=437.4473596486183\n",
            "Итерация 9600: b1=2.67473502386186, b0=437.65615414582203\n",
            "Итерация 9700: b1=2.6730536182133697, b0=437.85847090794124\n",
            "Итерация 9800: b1=2.671424377255549, b0=438.05451090316416\n",
            "Итерация 9900: b1=2.6698456826074, b0=438.2444688647513\n",
            "Итерация 10000: b1=2.66831596609731, b0=438.42853348446937\n",
            "Итерация 10100: b1=2.6668337082053326, b0=438.6068876000271\n",
            "Итерация 10200: b1=2.665397436553796, b0=438.77970837669244\n",
            "Итерация 10300: b1=2.6640057244447397, b0=438.94716748327915\n",
            "Итерация 10400: b1=2.662657189442728, b0=439.1094312626687\n",
            "Итерация 10500: b1=2.6613504920016324, b0=439.26666089704605\n",
            "Итерация 10600: b1=2.6600843341340044, b0=439.41901256800674\n",
            "Итерация 10700: b1=2.658857458121748, b0=439.5666376116976\n",
            "Итерация 10800: b1=2.6576686452667824, b0=439.7096826691456\n",
            "Итерация 10900: b1=2.656516714680473, b0=439.84828983191886\n",
            "Итерация 11000: b1=2.655400522110605, b0=439.982596783272\n",
            "Итерация 11100: b1=2.6543189588047644, b0=440.1127369349133\n",
            "Итерация 11200: b1=2.653270950408971, b0=440.2388395595245\n",
            "Итерация 11300: b1=2.6522554559004905, b0=440.36102991917335\n",
            "Итерация 11400: b1=2.651271466553754, b0=440.47942938974114\n",
            "Итерация 11500: b1=2.6503180049383506, b0=440.59415558148834\n",
            "Итерация 11600: b1=2.6493941239481114, b0=440.7053224558811\n",
            "Итерация 11700: b1=2.6484989058603143, b0=440.8130404387935\n",
            "Итерация 11800: b1=2.64763146142409, b0=440.91741653019807\n",
            "Итерация 11900: b1=2.646790928977088, b0=441.01855441045075\n",
            "Итерация 12000: b1=2.645976473589561, b0=441.1165545432816\n",
            "Итерация 12100: b1=2.6451872862350005, b0=441.2115142755887\n",
            "Итерация 12200: b1=2.6444225829865022, b0=441.3035279341348\n",
            "Итерация 12300: b1=2.6436816042380653, b0=441.3926869192477\n",
            "Итерация 12400: b1=2.642963613950053, b0=441.47907979560904\n",
            "Итерация 12500: b1=2.6422678989180524, b0=441.5627923802301\n",
            "Итерация 12600: b1=2.64159376806443, b0=441.6439078276966\n",
            "Итерация 12700: b1=2.640940551751852, b0=441.7225067127681\n",
            "Итерация 12800: b1=2.6403076011181215, b0=441.7986671104168\n",
            "Итерация 12900: b1=2.6396942874316394, b0=441.8724646733809\n",
            "Итерация 13000: b1=2.6391000014668546, b0=441.94397270731434\n",
            "Итерация 13100: b1=2.6385241528991057, b0=442.0132622436034\n",
            "Итерация 13200: b1=2.6379661697182377, b0=442.0804021099239\n",
            "Итерация 13300: b1=2.637425497660391, b0=442.14545899861116\n",
            "Итерация 13400: b1=2.6369015996574374, b0=442.20849753290685\n",
            "Итерация 13500: b1=2.636393955303505, b0=442.2695803311524\n",
            "Итерация 13600: b1=2.63590206033802, b0=442.32876806898923\n",
            "Итерация 13700: b1=2.635425426144815, b0=442.38611953963004\n",
            "Итерация 13800: b1=2.63496357926678, b0=442.44169171225997\n",
            "Итерация 13900: b1=2.6345160609355487, b0=442.49553978862684\n",
            "Итерация 14000: b1=2.634082426615793, b0=442.5477172578742\n",
            "Итерация 14100: b1=2.6336622455636496, b0=442.59827594967464\n",
            "Итерация 14200: b1=2.633255100398848, b0=442.64726608571283\n",
            "Итерация 14300: b1=2.632860586690114, b0=442.6947363295735\n",
            "Итерация 14400: b1=2.6324783125534306, b0=442.74073383508005\n",
            "Итерация 14500: b1=2.632107898262772, b0=442.78530429313463\n",
            "Итерация 14600: b1=2.631748975872897, b0=442.8284919771041\n",
            "Итерация 14700: b1=2.6314011888538698, b0=442.8703397867982\n",
            "Итерация 14800: b1=2.6310641917368995, b0=442.9108892910833\n",
            "Итерация 14900: b1=2.63073764977118, b0=442.95018076917484\n",
            "Итерация 15000: b1=2.630421238591358, b0=442.9882532506475\n",
            "Итерация 15100: b1=2.6301146438953427, b0=443.0251445542044\n",
            "Итерация 15200: b1=2.6298175611320915, b0=443.0608913252447\n",
            "Итерация 15300: b1=2.629529695199094, b0=443.09552907226373\n",
            "Итерация 15400: b1=2.6292507601492274, b0=443.12909220212515\n",
            "Итерация 15500: b1=2.628980478906733, b0=443.1616140542387\n",
            "Итерация 15600: b1=2.628718582991971, b0=443.19312693367647\n",
            "Итерация 15700: b1=2.62846481225473, b0=443.22366214326445\n",
            "Итерация 15800: b1=2.628218914615825, b0=443.25325001467485\n",
            "Итерация 15900: b1=2.6279806458166814, b0=443.2819199385565\n",
            "Итерация 16000: b1=2.6277497691767207, b0=443.30970039372977\n",
            "Итерация 16100: b1=2.627526055358244, b0=443.3366189754748\n",
            "Итерация 16200: b1=2.6273092821386372, b0=443.3627024229429\n",
            "Итерация 16300: b1=2.6270992341896156, b0=443.3879766457185\n",
            "Итерация 16400: b1=2.6268957028633335, b0=443.41246674955494\n",
            "Итерация 16500: b1=2.626698485985139, b0=443.4361970613139\n",
            "Итерация 16600: b1=2.6265073876527287, b0=443.45919115312853\n",
            "Итерация 16700: b1=2.626322218041569, b0=443.48147186582037\n",
            "Итерация 16800: b1=2.626142793216322, b0=443.5030613315864\n",
            "Итерация 16900: b1=2.625968934948155, b0=443.5239809959845\n",
            "Итерация 17000: b1=2.625800470537669, b0=443.5442516392359\n",
            "Итерация 17100: b1=2.625637232643388, b0=443.5638933968665\n",
            "Итерация 17200: b1=2.6254790591155004, b0=443.5829257797089\n",
            "Итерация 17300: b1=2.6253257928348064, b0=443.601367693283\n",
            "Итерация 17400: b1=2.6251772815566503, b0=443.61923745657384\n",
            "Итерация 17500: b1=2.625033377759676, b0=443.636552820232\n",
            "Итерация 17600: b1=2.6248939384993033, b0=443.6533309842027\n",
            "Итерация 17700: b1=2.624758825265718, b0=443.66958861481226\n",
            "Итерация 17800: b1=2.6246279038463127, b0=443.6853418613233\n",
            "Итерация 17900: b1=2.624501044192342, b0=443.70060637197713\n",
            "Итерация 18000: b1=2.6243781202897565, b0=443.7153973095362\n",
            "Итерация 18100: b1=2.6242590100340215, b0=443.7297293663467\n",
            "Итерация 18200: b1=2.624143595108829, b0=443.7436167789328\n",
            "Итерация 18300: b1=2.6240317608685677, b0=443.7570733421387\n",
            "Итерация 18400: b1=2.6239233962244493, b0=443.77011242283066\n",
            "Итерация 18500: b1=2.623818393534147, b0=443.78274697317516\n",
            "Итерация 18600: b1=2.6237166484948857, b0=443.7949895435053\n",
            "Итерация 18700: b1=2.623618060039822, b0=443.8068522947864\n",
            "Итерация 18800: b1=2.623522530237656, b0=443.818347010697\n",
            "Итерация 18900: b1=2.6234299641953576, b0=443.829485109333\n",
            "Итерация 19000: b1=2.623340269963896, b0=443.84027765455033\n",
            "Итерация 19100: b1=2.623253358446913, b0=443.85073536695506\n",
            "Итерация 19200: b1=2.6231691433122113, b0=443.8608686345515\n",
            "Итерация 19300: b1=2.6230875409060044, b0=443.87068752306277\n",
            "Итерация 19400: b1=2.623008470169821, b0=443.88020178592797\n",
            "Итерация 19500: b1=2.6229318525599825, b0=443.8894208739911\n",
            "Итерация 19600: b1=2.622857611969587, b0=443.89835394488915\n",
            "Итерация 19700: b1=2.622785674652908, b0=443.907009872148\n",
            "Итерация 19800: b1=2.622715969152135, b0=443.9153972539977\n",
            "Итерация 19900: b1=2.6226484262264007, b0=443.92352442191293\n",
            "Итерация 20000: b1=2.6225829787829977, b0=443.9313994488882\n",
            "Итерация 20100: b1=2.622519561810733, b0=443.93903015745866\n",
            "Итерация 20200: b1=2.62245811231535, b0=443.94642412746884\n",
            "Итерация 20300: b1=2.6223985692569554, b0=443.9535887036033\n",
            "Итерация 20400: b1=2.622340873489381, b0=443.96053100268176\n",
            "Итерация 20500: b1=2.62228496770144, b0=443.9672579207278\n",
            "Итерация 20600: b1=2.622230796359996, b0=443.9737761398205\n",
            "Итерация 20700: b1=2.622178305654794, b0=443.98009213473046\n",
            "Итерация 20800: b1=2.6221274434450113, b0=443.98621217935283\n",
            "Итерация 20900: b1=2.622078159207472, b0=443.9921423529378\n",
            "Итерация 21000: b1=2.6220304039864497, b0=443.99788854613047\n",
            "Итерация 21100: b1=2.621984130345043, b0=444.00345646682223\n",
            "Итерация 21200: b1=2.6219392923180527, b0=444.0088516458196\n",
            "Итерация 21300: b1=2.6218958453663244, b0=444.0140794423395\n",
            "Итерация 21400: b1=2.621853746332514, b0=444.01914504933137\n",
            "Итерация 21500: b1=2.6218129533982015, b0=444.0240534986366\n",
            "Итерация 21600: b1=2.621773426042366, b0=444.0288096659869\n",
            "Итерация 21700: b1=2.6217351250011256, b0=444.0334182758461\n",
            "Итерация 21800: b1=2.621698012228743, b0=444.037883906105\n",
            "Итерация 21900: b1=2.6216620508598294, b0=444.0422109926272\n",
            "Итерация 22000: b1=2.6216272051727194, b0=444.0464038336564\n",
            "Итерация 22100: b1=2.621593440553993, b0=444.05046659408623\n",
            "Итерация 22200: b1=2.6215607234640963, b0=444.0544033095957\n",
            "Итерация 22300: b1=2.621529021404019, b0=444.05821789065925\n",
            "Итерация 22400: b1=2.6214983028830203, b0=444.06191412643153\n",
            "Итерация 22500: b1=2.6214685373873365, b0=444.0654956885104\n",
            "Итерация 22600: b1=2.6214396953498773, b0=444.06896613458434\n",
            "Итерация 22700: b1=2.6214117481208565, b0=444.07232891196713\n",
            "Итерация 22800: b1=2.6213846679393287, b0=444.07558736102055\n",
            "Итерация 22900: b1=2.6213584279056246, b0=444.0787447184745\n",
            "Итерация 23000: b1=2.621333001954615, b0=444.08180412064024\n",
            "Итерация 23100: b1=2.6213083648298277, b0=444.08476860652667\n",
            "Итерация 23200: b1=2.621284492058363, b0=444.0876411208602\n",
            "Итерация 23300: b1=2.621261359926577, b0=444.09042451700736\n",
            "Итерация 23400: b1=2.6212389454565304, b0=444.0931215598113\n",
            "Итерация 23500: b1=2.6212172263831564, b0=444.09573492833704\n",
            "Итерация 23600: b1=2.621196181132156, b0=444.09826721853386\n",
            "Итерация 23700: b1=2.621175788798559, b0=444.1007209458123\n",
            "Итерация 23800: b1=2.621156029125957, b0=444.10309854754365\n",
            "Итерация 23900: b1=2.621136882486393, b0=444.1054023854814\n",
            "Итерация 24000: b1=2.6211183298608476, b0=444.10763474810756\n",
            "Итерация 24100: b1=2.6211003528203665, b0=444.1097978529038\n",
            "Итерация 24200: b1=2.621082933507734, b0=444.1118938485567\n",
            "Итерация 24300: b1=2.62106605461975, b0=444.1139248170912\n",
            "Итерация 24400: b1=2.621049699390032, b0=444.1158927759375\n",
            "Итерация 24500: b1=2.621033851572372, b0=444.11779967993647\n",
            "Итерация 24600: b1=2.6210184954245856, b0=444.11964742328234\n",
            "Итерация 24700: b1=2.621003615692888, b0=444.12143784140136\n",
            "Итерация 24800: b1=2.620989197596729, b0=444.1231727127773\n",
            "Итерация 24900: b1=2.620975226814117, b0=444.12485376071794\n",
            "Итерация 25000: b1=2.620961689467396, b0=444.1264826550652\n",
            "Итерация 25100: b1=2.620948572109454, b0=444.1280610138564\n",
            "Итерация 25200: b1=2.620935861710366, b0=444.12959040492916\n",
            "Итерация 25300: b1=2.6209235456444575, b0=444.1310723474804\n",
            "Итерация 25400: b1=2.620911611677758, b0=444.1325083135745\n",
            "Итерация 25500: b1=2.6209000479558493, b0=444.133899729606\n",
            "Итерация 25600: b1=2.620888842992089, b0=444.1352479777156\n",
            "Итерация 25700: b1=2.620877985656201, b0=444.13655439716536\n",
            "Итерация 25800: b1=2.6208674651632218, b0=444.1378202856662\n",
            "Итерация 25900: b1=2.620857271062782, b0=444.13904690066863\n",
            "Решение 3. y = b0 + b1*x\n",
            "С интерсепом: coef (b1)=2.620856069220116, interceipt (b0)=444.13919151355066\n"
          ]
        },
        {
          "output_type": "display_data",
          "data": {
            "text/plain": [
              "<Figure size 640x480 with 1 Axes>"
            ],
            "image/png": "[encoded data removed]"
          },
          "metadata": {}
        }
      ]
    },
    {
      "cell_type": "markdown",
      "source": [
        "## Домашнее задание №10"
      ],
      "metadata": {
        "id": "HeMwp1HUBOur"
      }
    },
    {
      "cell_type": "markdown",
      "source": [
        "**Задача 10**\n",
        "\n",
        "Провести дисперсионный анализ для определения того, есть ли различия среднего роста среди взрослых футболистов, хоккеистов и штангистов.\n",
        "\n",
        "Даны значения роста в трех группах случайно выбранных спортсменов:\n",
        "\n",
        "Футболисты: 173, 175, 180, 178, 177, 185, 183, 182.\n",
        "\n",
        "Хоккеисты: 177, 179, 180, 188, 177, 172, 171, 184, 180.\n",
        "\n",
        "Штангисты: 172, 173, 169, 177, 166, 180, 178, 177, 172, 166, 170."
      ],
      "metadata": {
        "id": "rUhmyd_kBXip"
      }
    },
    {
      "cell_type": "code",
      "source": [
        "import numpy as np\n",
        "import matplotlib.pyplot as plt\n",
        "from sklearn.linear_model import LinearRegression\n",
        "import scipy.stats as stats\n",
        "import pandas as pd\n",
        "\n",
        "# списки\n",
        "f = [173, 175, 180, 178, 177, 185, 183, 182]\n",
        "h = [177, 179, 180, 188, 177, 172, 171, 184, 180]\n",
        "sh = [172, 173, 169, 177, 166, 180, 178, 177, 172, 166, 170]\n",
        "x = np.array(f)\n",
        "y = np.array(h)\n",
        "z = np.array(sh)\n",
        "\n",
        "# количество элементов в списках\n",
        "nx=len(x)\n",
        "ny=len(y)\n",
        "nz=len(z)\n",
        "\n",
        "# среднее значение по группам\n",
        "Mx=np.mean(x)\n",
        "My=np.mean(y)\n",
        "Mz=np.mean(z)"
      ],
      "metadata": {
        "id": "bsA2gAocBh6s"
      },
      "execution_count": 40,
      "outputs": []
    },
    {
      "cell_type": "code",
      "source": [
        "from scipy.stats import f_oneway\n",
        "f_stat, p_value = f_oneway(f, h, sh)\n",
        "\n",
        "print('F-статистика:', f_stat)\n",
        "print('P-значение:', p_value)"
      ],
      "metadata": {
        "colab": {
          "base_uri": "https://localhost:8080/"
        },
        "id": "XQz8JwjFkk4H",
        "outputId": "c7aa2af7-c8c4-4633-c8c9-0b344d6f38e0"
      },
      "execution_count": 46,
      "outputs": [
        {
          "output_type": "stream",
          "name": "stdout",
          "text": [
            "F-статистика: 5.500053450812596\n",
            "P-значение: 0.010482206918698694\n"
          ]
        }
      ]
    },
    {
      "cell_type": "markdown",
      "source": [
        "**Вывод**\n",
        "\n",
        "существуют различия среднего роста в трех группах спортсменов, так как p-значение меньше уровня значимости 0.05."
      ],
      "metadata": {
        "id": "02HLGDgNk7J5"
      }
    },
    {
      "cell_type": "code",
      "source": [
        "    # тест Тьюки\n",
        "    tukey=pairwise_tukeyhsd(endog=df['high'],groups=df['sport'], alpha=alpha)\n",
        "    print(tukey)\n"
      ],
      "metadata": {
        "colab": {
          "base_uri": "https://localhost:8080/"
        },
        "id": "n_32jUgnis45",
        "outputId": "7fc3a596-1df2-46ca-c838-e46094ed02ab"
      },
      "execution_count": 45,
      "outputs": [
        {
          "output_type": "stream",
          "name": "stdout",
          "text": [
            "  Multiple Comparison of Means - Tukey HSD, FWER=0.05   \n",
            "========================================================\n",
            " group1   group2 meandiff p-adj   lower    upper  reject\n",
            "--------------------------------------------------------\n",
            "football  hockey  -0.4583  0.979  -6.2732  5.3566  False\n",
            "football shtanga  -6.3977 0.0219 -11.9583 -0.8372   True\n",
            "  hockey shtanga  -5.9394 0.0284 -11.3181 -0.5607   True\n",
            "--------------------------------------------------------\n"
          ]
        }
      ]
    },
    {
      "cell_type": "markdown",
      "source": [
        "**Выводы**\n",
        "\n",
        "* между football и hockey p-adj = 0.979 > альфа 0.05, различия не найдены,\n",
        "* между football и powerlifting  p-adj = 0.02 < альфа 0.05, различия найдены\n",
        "* между hockey и powerlifting p-adj = 0.03 < альфа 0.05,  различия найдены"
      ],
      "metadata": {
        "id": "oigPnvssixBL"
      }
    },
    {
      "cell_type": "code",
      "source": [
        "# Графическое отображение\n",
        "\n",
        "plt.scatter(xx,x)\n",
        "plt.scatter(xy,y)\n",
        "plt.scatter(xz,z)\n",
        "\n",
        "plt.plot(np.array([0.75,1.25]), np.array([Mx,Mx]), 'black')\n",
        "plt.plot(np.array([1.75,2.25]), np.array([My,My]), 'black')\n",
        "plt.plot(np.array([2.75,3.25]), np.array([Mz,Mz]), 'black')\n",
        "\n",
        "plt.title(f'Футболисты (Mx={Mx})\\nХоккеисты (My={My}) \\nШтангисты (Mz={Mz})')\n",
        "\n",
        "plt.show()"
      ],
      "metadata": {
        "colab": {
          "base_uri": "https://localhost:8080/",
          "height": 494
        },
        "id": "Eo-HBC1rhv47",
        "outputId": "3c83a2f1-19be-4a4d-fc8a-f97b4f14d2d4"
      },
      "execution_count": 44,
      "outputs": [
        {
          "output_type": "display_data",
          "data": {
            "text/plain": [
              "<Figure size 640x480 with 1 Axes>"
            ],
            "image/png": "[encoded data removed]"
          },
          "metadata": {}
        }
      ]
    },
    {
      "cell_type": "markdown",
      "source": [
        "**Вывод**\n",
        "\n",
        "графически видно, что срднее штангистов сильно отклоняется от среднего футболистов и хоккеистов"
      ],
      "metadata": {
        "id": "kfmHedkZlN3j"
      }
    }
  ]
}