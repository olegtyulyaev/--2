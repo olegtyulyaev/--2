{
  "nbformat": 4,
  "nbformat_minor": 0,
  "metadata": {
    "colab": {
      "provenance": [],
      "toc_visible": true,
      "authorship_tag": "ABX9TyPQ7WceRo2yDCSTM21RaDUG",
      "include_colab_link": true
    },
    "kernelspec": {
      "name": "python3",
      "display_name": "Python 3"
    },
    "language_info": {
      "name": "python"
    }
  },
  "cells": [
    {
      "cell_type": "markdown",
      "metadata": {
        "id": "view-in-github",
        "colab_type": "text"
      },
      "source": [
        "<a href=\"https://colab.research.google.com/github/olegtyulyaev/--2/blob/main/Probability_theory_HW1%2C2%2C3.ipynb\" target=\"_parent\"><img src=\"https://colab.research.google.com/assets/colab-badge.svg\" alt=\"Open In Colab\"/></a>"
      ]
    },
    {
      "cell_type": "markdown",
      "source": [
        "# **Теория вероятностей**\n"
      ],
      "metadata": {
        "id": "xnqxxJZkXgsA"
      }
    },
    {
      "cell_type": "markdown",
      "source": [
        "\n",
        "## Домашнее задание №1"
      ],
      "metadata": {
        "id": "Zgua4J2ve6Bn"
      }
    },
    {
      "cell_type": "markdown",
      "source": [],
      "metadata": {
        "id": "W8n8KOT0VgVX"
      }
    },
    {
      "cell_type": "markdown",
      "source": [
        "**Задача 1.**\n",
        "\n",
        " Из колоды в 52 карты извлекаются случайным образом 4 карты.\n",
        "\n",
        "1.   Найти вероятность того, что все 4 карты – крести\n",
        "2.   Найти вероятность, что среди 4-х карт окажется хотя бы один туз."
      ],
      "metadata": {
        "id": "tSxtToflXyFS"
      }
    },
    {
      "cell_type": "code",
      "source": [
        "from math import factorial\n",
        "a = factorial(13) // (factorial (4) * factorial (13-4) )\n",
        "b = factorial(39) // (factorial (0) * factorial (39-0) )\n",
        "\n",
        "c = factorial(52) // (factorial (4) * factorial (52-4) )\n",
        "(a*b)/c"
      ],
      "metadata": {
        "colab": {
          "base_uri": "https://localhost:8080/"
        },
        "id": "BAckL2l7YGOz",
        "outputId": "1c97644f-6293-4e8f-ac60-75cca5e7eab9"
      },
      "execution_count": null,
      "outputs": [
        {
          "output_type": "execute_result",
          "data": {
            "text/plain": [
              "0.0026410564225690276"
            ]
          },
          "metadata": {},
          "execution_count": 10
        }
      ]
    },
    {
      "cell_type": "code",
      "source": [
        "a = factorial(48) // (factorial (4) * factorial (48-4))\n",
        "b = factorial(52) // (factorial (4) * factorial (52-4))\n",
        "1-(a/b)"
      ],
      "metadata": {
        "colab": {
          "base_uri": "https://localhost:8080/"
        },
        "id": "SM-8xPzpY_bw",
        "outputId": "1211db44-8e50-424e-c319-5e3cf4f36e2a"
      },
      "execution_count": null,
      "outputs": [
        {
          "output_type": "execute_result",
          "data": {
            "text/plain": [
              "0.2812632745405854"
            ]
          },
          "metadata": {},
          "execution_count": 12
        }
      ]
    },
    {
      "cell_type": "markdown",
      "source": [
        "**Ответ**\n",
        "1.   P (4 трефы) = 0,26%\n",
        "2.   P (хотя бы 1 туз) = 28,13%\n"
      ],
      "metadata": {
        "id": "JEfVc5BOZfU8"
      }
    },
    {
      "cell_type": "markdown",
      "source": [
        "**Задача 2.**\n",
        "\n",
        "На входной двери подъезда установлен кодовый замок, содержащий десять кнопок с цифрами от 0 до 9. Код содержит три цифры, которые нужно нажать одновременно . Какова вероятность того, что человек, не знающий код, откроет дверь с первой попытки?"
      ],
      "metadata": {
        "id": "O-7Vf3sdbt7L"
      }
    },
    {
      "cell_type": "code",
      "source": [
        "a = factorial(10) / (factorial (3) * factorial (10-3))\n",
        "a"
      ],
      "metadata": {
        "colab": {
          "base_uri": "https://localhost:8080/"
        },
        "id": "uPiap1m7b0Gw",
        "outputId": "21a163a6-0922-403a-ae40-483c72647266"
      },
      "execution_count": null,
      "outputs": [
        {
          "output_type": "execute_result",
          "data": {
            "text/plain": [
              "120.0"
            ]
          },
          "metadata": {},
          "execution_count": 13
        }
      ]
    },
    {
      "cell_type": "markdown",
      "source": [
        "**Ответ**\n",
        "\n",
        "120 возможных исходов, из которых один благоприятный, искомая вероятность равна 1/120 или 0,83%"
      ],
      "metadata": {
        "id": "0fz9nhpscBsy"
      }
    },
    {
      "cell_type": "markdown",
      "source": [
        "**Задача 3.**\n",
        "\n",
        "В ящике имеется 15 деталей, из которых 9 окрашены. Рабочий случайным образом извлекает 3 детали. Какова вероятность того, что все 3 извлеченные детали окрашены?"
      ],
      "metadata": {
        "id": "QrU49tL9clla"
      }
    },
    {
      "cell_type": "code",
      "source": [
        "a = factorial(9) // (factorial (3) * factorial (9-3))\n",
        "b = factorial(6) // (factorial (0) * factorial (6-0) )\n",
        "\n",
        "c = factorial(15) // (factorial (3) * factorial (15-3))\n",
        "\n",
        "(a*b)/c"
      ],
      "metadata": {
        "colab": {
          "base_uri": "https://localhost:8080/"
        },
        "id": "lLWH1R9jctxo",
        "outputId": "8c88dfba-21ac-49d6-f5dc-cb7b826f72c5"
      },
      "execution_count": null,
      "outputs": [
        {
          "output_type": "execute_result",
          "data": {
            "text/plain": [
              "0.18461538461538463"
            ]
          },
          "metadata": {},
          "execution_count": 15
        }
      ]
    },
    {
      "cell_type": "markdown",
      "source": [
        "**Ответ**\n",
        "\n",
        "P (3 из 3х окрашены) = 18,46%"
      ],
      "metadata": {
        "id": "VnoaHk1GdAno"
      }
    },
    {
      "cell_type": "markdown",
      "source": [
        "**Задача 4.**\n",
        "\n",
        "В лотерее 100 билетов. Из них 2 выигрышных. Какова вероятность того, что 2 приобретенных билета окажутся выигрышными?"
      ],
      "metadata": {
        "id": "nkDvpy-IdLZd"
      }
    },
    {
      "cell_type": "code",
      "source": [
        "a = factorial(2) // (factorial (2) * factorial (2-2) )\n",
        "b = factorial(98) // (factorial (0) * factorial (98-0) )\n",
        "\n",
        "c = factorial(100) // (factorial (2) * factorial (100-2) )\n",
        "\n",
        "(a*b)/c"
      ],
      "metadata": {
        "colab": {
          "base_uri": "https://localhost:8080/"
        },
        "id": "uQIKy_gidRVp",
        "outputId": "c8b12145-7b0f-45f9-d18c-90752775e632"
      },
      "execution_count": null,
      "outputs": [
        {
          "output_type": "execute_result",
          "data": {
            "text/plain": [
              "0.00020202020202020202"
            ]
          },
          "metadata": {},
          "execution_count": 16
        }
      ]
    },
    {
      "cell_type": "markdown",
      "source": [
        "**Ответ**\n",
        "\n",
        "P (оба билеты выигрышные) = 0,02%"
      ],
      "metadata": {
        "id": "IGweguB3dar1"
      }
    },
    {
      "cell_type": "markdown",
      "source": [
        "\n",
        "## Домашнее задание №2"
      ],
      "metadata": {
        "id": "dv3NWPcY4VtR"
      }
    },
    {
      "cell_type": "markdown",
      "source": [
        "**Задача 2.1**\n",
        "\n",
        " Вероятность того, что стрелок попадет в мишень, выстрелив один раз, равна 0.8. Стрелок выстрелил 100 раз. Найдите вероятность того, что стрелок попадет в цель ровно 85 раз."
      ],
      "metadata": {
        "id": "1nvt3Cj74c81"
      }
    },
    {
      "cell_type": "code",
      "source": [
        "from math import factorial, exp\n",
        "def bernulli(n, k, p):\n",
        "    result =factorial(n)/(factorial(k)*factorial(n-k))\n",
        "    return result*(p**k)*(1-p)**(n-k)\n",
        "\n",
        "# Формула биномиального распределения: P(n)(X=k) = С(n,k) * p^k * q^(n-k) k = 85; n = 100; p = 0.8; q = 1-0.8 = 0.2"
      ],
      "metadata": {
        "id": "JsyshosQ48-k"
      },
      "execution_count": null,
      "outputs": []
    },
    {
      "cell_type": "code",
      "source": [
        "print(f' P ={bernulli(100,85,0.8): .5f}')"
      ],
      "metadata": {
        "colab": {
          "base_uri": "https://localhost:8080/"
        },
        "id": "hRv_yV075E8_",
        "outputId": "3a8f7b50-2cd9-44f9-dfe6-0fc9e3f37fe2"
      },
      "execution_count": null,
      "outputs": [
        {
          "output_type": "stream",
          "name": "stdout",
          "text": [
            " P = 0.04806\n"
          ]
        }
      ]
    },
    {
      "cell_type": "markdown",
      "source": [
        "**Задача 2.2**\n",
        "\n",
        "Вероятность того, что лампочка перегорит в течение первого дня эксплуатации, равна 0.0004. В жилом комплексе после ремонта в один день включили 5000 новых лампочек. Какова вероятность, что ни одна из них не перегорит в первый день? Какова вероятность, что перегорят ровно две?"
      ],
      "metadata": {
        "id": "48ZSGFxs6eRm"
      }
    },
    {
      "cell_type": "code",
      "source": [
        "p = 0.0004\n",
        "n = 5000\n",
        "lamda = p * n\n",
        "lamda\n",
        "\n",
        "#формула Пуассона  P(m) = (lambda^m / m!) * e^(-lambda)"
      ],
      "metadata": {
        "colab": {
          "base_uri": "https://localhost:8080/"
        },
        "id": "NWwiIRe16ot9",
        "outputId": "5333101c-4dad-429b-92f1-fd08a904e3bf"
      },
      "execution_count": null,
      "outputs": [
        {
          "output_type": "execute_result",
          "data": {
            "text/plain": [
              "2.0"
            ]
          },
          "metadata": {},
          "execution_count": 33
        }
      ]
    },
    {
      "cell_type": "code",
      "source": [
        "import math\n",
        "P_0 = (lamda**0/(factorial(0))) * (math.e **-lamda)\n",
        "print(f' P ={(P_0): .5f}')\n"
      ],
      "metadata": {
        "colab": {
          "base_uri": "https://localhost:8080/"
        },
        "id": "WMgwjkpM7UKc",
        "outputId": "7772df5e-3fd0-45ee-a086-c2488b8a0aa0"
      },
      "execution_count": null,
      "outputs": [
        {
          "output_type": "stream",
          "name": "stdout",
          "text": [
            " P = 0.13534\n"
          ]
        }
      ]
    },
    {
      "cell_type": "code",
      "source": [
        "P_2 = (lamda**2/(factorial(2))) * (math.e **-lamda)\n",
        "print(f' P ={(P_2): .5f}')\n"
      ],
      "metadata": {
        "colab": {
          "base_uri": "https://localhost:8080/"
        },
        "id": "nrDNA8yJ-ms7",
        "outputId": "438b56e6-5f44-47f9-c56c-d09b52a2be79"
      },
      "execution_count": null,
      "outputs": [
        {
          "output_type": "stream",
          "name": "stdout",
          "text": [
            " P = 0.27067\n"
          ]
        }
      ]
    },
    {
      "cell_type": "markdown",
      "source": [
        "**Ответ**\n",
        "\n",
        "P (0 лампочек перегорит) = 13,5%\n",
        "\n",
        "P (2 лампочки перегорят) = 27,1%"
      ],
      "metadata": {
        "id": "I_aeDZgj-vgR"
      }
    },
    {
      "cell_type": "markdown",
      "source": [
        "**Задача 2.3**\n",
        "\n",
        "Монету подбросили 144 раза. Какова вероятность, что орел выпадет ровно 70 раз?"
      ],
      "metadata": {
        "id": "XcjiMPdl_TED"
      }
    },
    {
      "cell_type": "code",
      "source": [
        "print(f'P = {bernulli(144,70,0.5): .5f}')"
      ],
      "metadata": {
        "colab": {
          "base_uri": "https://localhost:8080/"
        },
        "id": "TmwXgyix_fB5",
        "outputId": "df6efd5e-6d70-4a01-e4a3-c3cd23767dfa"
      },
      "execution_count": null,
      "outputs": [
        {
          "output_type": "stream",
          "name": "stdout",
          "text": [
            "P =  0.06281\n"
          ]
        }
      ]
    },
    {
      "cell_type": "markdown",
      "source": [
        "**Ответ**\n",
        "\n",
        "Вероятность, что орел выпадет ровно 70 раз = 6,28%"
      ],
      "metadata": {
        "id": "bFnX5cauALKL"
      }
    },
    {
      "cell_type": "markdown",
      "source": [
        "**Задача 2.4**\n",
        "\n",
        "В первом ящике находится 10 мячей, из которых 7 - белые. Во втором ящике - 11 мячей, из которых 9 белых. Из каждого ящика вытаскивают случайным образом по два мяча.\n",
        "\n",
        "* 2.4.1 Какова вероятность того, что все мячи белые?\n",
        "* 2.4.2 Какова вероятность того, что ровно два мяча белые?\n",
        "* 2.4.3 Какова вероятность того, что хотя бы один мяч белый?"
      ],
      "metadata": {
        "id": "Nc3HnxAUAgt4"
      }
    },
    {
      "cell_type": "code",
      "source": [
        "p4=7/10*6/9*9/11*8/10\n",
        "p2=7/10*6/9*2/11*1/10+3/10*2/9*9/11*8/10+(7/10*3/9+3/10*7/9)*(9/11*2/10+2/11*9/10)\n",
        "p1=1-3/10*2/9*2/11*1/10\n",
        "\n",
        "def comb(k, n):\n",
        " return factorial(n) / (factorial(k) * factorial(n - k))\n",
        "\n",
        "#первая и вторая корзина по 2 белых мяча\n",
        "p4 = comb(2, 7) / comb(2, 10) * comb(2, 9) / comb(2, 11)\n",
        "\n",
        "#первая или вторая корзина 2 белых мяча\n",
        "p2 = (comb(2, 7) / comb(2, 10) * comb(2, 2) / comb(2, 11)) + (comb(2, 3) / comb(2, 10) * comb(2, 9) / comb(2, 11))\n",
        "\n",
        "#первая и вторая корзина по одному белому мячу\n",
        "p2 += comb(1, 7) * comb(1, 3) /  comb(2, 10) * comb(1, 9) * comb(1, 2) / comb(2, 11)\n",
        "\n",
        "#обратная вероятность вытащить ноль белых мячей\n",
        "p1 = 1 - comb(0, 7) / comb(7, 10) * comb(0, 9) / comb(9, 11)\n",
        "\n",
        "\n",
        "print(f'Ответ 2.4.1 - все мячи белые = {p4:.5f}')\n",
        "print(f'Ответ 2.4.2 - 2 мяча белые = {p2:.5f}')\n",
        "print(f'Ответ 2.4.3 - хотя бы 1 мяч белый = {p1:.5f}')"
      ],
      "metadata": {
        "colab": {
          "base_uri": "https://localhost:8080/"
        },
        "id": "BwTNOCJhBOOk",
        "outputId": "9e36db33-95b2-4077-ce72-07484a5dd6ce"
      },
      "execution_count": null,
      "outputs": [
        {
          "output_type": "stream",
          "name": "stdout",
          "text": [
            "Ответ 2.4.1 - все мячи белые = 0.30545\n",
            "Ответ 2.4.2 - 2 мяча белые = 0.20485\n",
            "Ответ 2.4.3 - хотя бы 1 мяч белый = 0.99985\n"
          ]
        }
      ]
    },
    {
      "cell_type": "markdown",
      "source": [
        "## Домашнее задание №3"
      ],
      "metadata": {
        "id": "mgtHmrJvVmZ7"
      }
    },
    {
      "cell_type": "markdown",
      "source": [
        "**Задача 3.1.**\n",
        "\n",
        "Даны значения зарплат из выборки выпускников: 100, 80, 75, 77, 89, 33, 45, 25, 65, 17, 30, 24, 57, 55, 70, 75, 65, 84, 90, 150. Посчитать (желательно без использования статистических методов наподобие std, var, mean) среднее арифметическое, среднее квадратичное отклонение, смещенную и несмещенную оценки дисперсий для данной выборки."
      ],
      "metadata": {
        "id": "SbLr3qU7V-Fw"
      }
    },
    {
      "cell_type": "code",
      "source": [
        "import numpy as np\n",
        "from math import factorial\n",
        "arr=np.array([100, 80, 75, 77, 89, 33, 45, 25, 65, 17, 30, 24, 57, 55, 70, 75, 65, 84, 90, 150])\n",
        "arr\n",
        "\n",
        "def mean_value(array):\n",
        "    return sum(array)/len(array)\n",
        "\n",
        "print(f'Среднее арифметическое М(Х) = {mean_value(arr): .2f}')"
      ],
      "metadata": {
        "colab": {
          "base_uri": "https://localhost:8080/"
        },
        "id": "jL94i14wWLta",
        "outputId": "3362971a-a6cd-4b3a-80a3-9197b01a6f9a"
      },
      "execution_count": 16,
      "outputs": [
        {
          "output_type": "stream",
          "name": "stdout",
          "text": [
            "Среднее арифметическое М(Х) =  65.30\n"
          ]
        }
      ]
    },
    {
      "cell_type": "code",
      "source": [
        "def mean_square_deviation(array):\n",
        "    square_dev=(array-mean_value(array))**2\n",
        "    return (sum(square_dev)/len(square_dev))**(1/2)\n",
        "print(f'Среднее квадратичное отклонение D(X) = {mean_square_deviation(arr): .4f}')"
      ],
      "metadata": {
        "colab": {
          "base_uri": "https://localhost:8080/"
        },
        "id": "KG3GUU40YdtO",
        "outputId": "0d4c2093-de8c-44b5-9c36-1c5cb4b77479"
      },
      "execution_count": 45,
      "outputs": [
        {
          "output_type": "stream",
          "name": "stdout",
          "text": [
            "Среднее квадратичное отклонение D(X) =  30.8239\n"
          ]
        }
      ]
    },
    {
      "cell_type": "code",
      "source": [
        "def dispers(array, no_off=False):\n",
        "#аргумент no_off отвечает за расчет смещенной, или несмещенной оценки дисперсии. По умолчанио расчитывается смещенная.#\n",
        "    square_dev=(array-mean_value(array))**2\n",
        "    return sum(square_dev)/(len(square_dev)-1) if no_off else sum(square_dev)/len(square_dev)"
      ],
      "metadata": {
        "colab": {
          "base_uri": "https://localhost:8080/"
        },
        "id": "t-fwXdTOgh9v",
        "outputId": "9ec77d94-1c34-478b-ccc5-8f48883e9444"
      },
      "execution_count": 41,
      "outputs": [
        {
          "output_type": "stream",
          "name": "stdout",
          "text": [
            "Среднее квадратичное отклонение для данной выборки SD =  30.8239\n"
          ]
        }
      ]
    },
    {
      "cell_type": "code",
      "source": [],
      "metadata": {
        "id": "yXbXkFgdgKTa"
      },
      "execution_count": 40,
      "outputs": []
    }
  ]
}